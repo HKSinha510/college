{
 "cells": [
  {
   "cell_type": "markdown",
   "metadata": {},
   "source": [
    "> Hardik Kumar Sinha <br>\n",
    "> 34944 <br>\n",
    "> 27 feb 2025 <br>\n",
    "\n",
    "# DataTypes\n",
    "1. Numeric\n",
    "    - Integer\n",
    "    - Float\n",
    "    - Complex\n",
    "\n",
    "2. Dictionary\n",
    "3. Set\n",
    "4. Bool\n",
    "5. Sequence\n",
    "    - List\n",
    "    - Tuple\n",
    "    - String"
   ]
  },
  {
   "cell_type": "code",
   "execution_count": 125,
   "metadata": {},
   "outputs": [
    {
     "name": "stdout",
     "output_type": "stream",
     "text": [
      "<class 'int'>\n",
      "<class 'int'>\n",
      "<class 'int'>\n",
      "\n",
      "<class 'float'>\n",
      "<class 'float'>\n",
      "<class 'float'>\n",
      "\n",
      "<class 'complex'>\n",
      "<class 'complex'>\n",
      "10\n",
      "0\n"
     ]
    }
   ],
   "source": [
    "\"\"\"\n",
    "DataType \n",
    "~\n",
    "Numeric\n",
    "\"\"\"\n",
    "# Integer\n",
    "a = 10\n",
    "b = -15\n",
    "c = 0\n",
    "print(type(a))\n",
    "print(type(b))\n",
    "print(type(c))\n",
    "print()\n",
    "\n",
    "# Float\n",
    "x = 3.14\n",
    "y = -3.14\n",
    "z = 1.5e3\n",
    "print(type(x))\n",
    "print(type(y))\n",
    "print(type(z))\n",
    "print()\n",
    "\n",
    "# Complex\n",
    "p = 2 + 3j\n",
    "q = 5 + 7j\n",
    "print(type(p))\n",
    "print(type(q))\n",
    "\n",
    "print(a.real)\n",
    "print(b.imag)"
   ]
  },
  {
   "cell_type": "code",
   "execution_count": 126,
   "metadata": {},
   "outputs": [
    {
     "name": "stdout",
     "output_type": "stream",
     "text": [
      "{'name': 'hardik', 'age': 17, 'class': 'AIADS'}\n",
      "<class 'dict'>\n",
      "17\n"
     ]
    }
   ],
   "source": [
    "\"\"\"\n",
    "DataType \n",
    "~\n",
    "Dictionary\n",
    "\"\"\"\n",
    "a = {\"name\": \"hardik\", \"age\": 17, \"class\": \"AIADS\"}\n",
    "print(a)\n",
    "print(type(a))\n",
    "print(a[\"age\"])\n",
    "# print(a[0]) # gives error"
   ]
  },
  {
   "cell_type": "code",
   "execution_count": 127,
   "metadata": {},
   "outputs": [
    {
     "name": "stdout",
     "output_type": "stream",
     "text": [
      "<class 'bool'>\n",
      "<class 'bool'>\n"
     ]
    }
   ],
   "source": [
    "\"\"\"\n",
    "DataType \n",
    "~\n",
    "Boolean\n",
    "\"\"\"\n",
    "a = True\n",
    "b = False\n",
    "\n",
    "print(type(a))\n",
    "print(type(b))"
   ]
  },
  {
   "cell_type": "code",
   "execution_count": 128,
   "metadata": {},
   "outputs": [
    {
     "name": "stdout",
     "output_type": "stream",
     "text": [
      "{17, 'AIADS', 'hardik'}\n",
      "<class 'set'>\n"
     ]
    }
   ],
   "source": [
    "\"\"\"\n",
    "DataType \n",
    "~\n",
    "Set\n",
    "\"\"\"\n",
    "a = {\"hardik\", 17, \"AIADS\"}\n",
    "print(a)\n",
    "print(type(a))"
   ]
  },
  {
   "cell_type": "code",
   "execution_count": 129,
   "metadata": {},
   "outputs": [
    {
     "name": "stdout",
     "output_type": "stream",
     "text": [
      "Hellow\n",
      "<class 'str'>\n",
      "Hello\n",
      "<class 'str'>\n",
      "\n",
      "[2, 3, 4, 'abc']\n",
      "<class 'list'>\n",
      "\n",
      "('name', 3, 4, 'abc')\n",
      "<class 'tuple'>\n"
     ]
    }
   ],
   "source": [
    "\"\"\"\n",
    "DataType \n",
    "~\n",
    "Sequence\n",
    "\"\"\"\n",
    "# String(str)\n",
    "c = \"Hellow\"\n",
    "print(c)\n",
    "print(type(c))\n",
    "\n",
    "c = \"\"\"Hello\"\"\"\n",
    "print(c)\n",
    "print(type(c))\n",
    "print()\n",
    "\n",
    "# List\n",
    "c = [2, 3, 4, \"abc\"]\n",
    "print(c)\n",
    "print(type(c))\n",
    "print()\n",
    "\n",
    "d = (\"name\", 3, 4, \"abc\")\n",
    "print(d)\n",
    "print(type(d))"
   ]
  },
  {
   "cell_type": "markdown",
   "metadata": {},
   "source": [
    "# Markdown\n",
    "1. Implicit\n",
    "2. Explicit"
   ]
  },
  {
   "cell_type": "code",
   "execution_count": 130,
   "metadata": {},
   "outputs": [
    {
     "name": "stdout",
     "output_type": "stream",
     "text": [
      "7.5\n"
     ]
    }
   ],
   "source": [
    "\"\"\"\n",
    "Markdown \n",
    "~\n",
    "Implicit\n",
    "\"\"\"\n",
    "\n",
    "a = 5\n",
    "b = 2.5\n",
    "print(a+b)\n",
    "#automatically convert a to float, and gives output in float"
   ]
  },
  {
   "cell_type": "code",
   "execution_count": 131,
   "metadata": {},
   "outputs": [
    {
     "name": "stdout",
     "output_type": "stream",
     "text": [
      "5\n",
      "5\n",
      "5.0\n",
      "(5+0j)\n",
      "\n",
      "twenty\n",
      "432\n",
      "432.432\n",
      "(4+3j)\n",
      "('t', 'w', 'e', 'n', 't', 'y')\n",
      "['t', 'w', 'e', 'n', 't', 'y']\n",
      "{'n', 'w', 'e', 't', 'y'}\n",
      "\n",
      "(1+3j)\n",
      "(1+3j)\n",
      "\n",
      "(1, 2, 'abc')\n",
      "(1, 2, 'abc')\n",
      "[1, 2, 'abc']\n",
      "{1, 2, 'abc'}\n",
      "\n"
     ]
    }
   ],
   "source": [
    "\"\"\"\n",
    "Markdown \n",
    "~\n",
    "Explicit - 1\n",
    "\"\"\"\n",
    "\n",
    "#int\n",
    "a = 5\n",
    "print(a)\n",
    "print(str(a))\n",
    "print(float(a))\n",
    "print(complex(a))\n",
    "#print(tuple(a))        int object is not iterable. quick fix e = (a,). print(type(tuple)) => <class 'tuple'>\n",
    "#print(list(a))                                     quick fix e = [a]. print(type(tuple)) => <class 'tuple'>\n",
    "#print(set(a))                                      quick fix e = {a}. print(type(tuple)) => <class 'tuple'>\n",
    "#print(dict(a))         requires key value pair\n",
    "print()\n",
    "\n",
    "#str\n",
    "a = \"twenty\"\n",
    "print(a)\n",
    "#print(int(a))\n",
    "print(int(\"432\"))\n",
    "#print(float(a))\n",
    "print(float(\"432.432\"))\n",
    "#print(complex(a))\n",
    "print(complex(\"4+3j\"))\n",
    "print(tuple(a))        \n",
    "print(list(a))         \n",
    "print(set(a))          \n",
    "#print(dict(a))         requires key value pair\n",
    "print()\n",
    "\n",
    "#complex\n",
    "a = 1 + 3j\n",
    "print(a)\n",
    "#print(int(a))\n",
    "#print(float(a))\n",
    "print(str(a))\n",
    "#print(tuple(a))        \n",
    "#print(list(a))         \n",
    "#print(set(a))          \n",
    "#print(dict(a))        \n",
    "print()\n",
    "\n",
    "#tuple\n",
    "a = (1, 2, \"abc\")\n",
    "print(a)\n",
    "#print(int(a))\n",
    "#print(float(a))\n",
    "print(str(a))\n",
    "#print(complex(a))        \n",
    "print(list(a))         \n",
    "print(set(a))          \n",
    "#print(dict(a))        \n",
    "print()"
   ]
  },
  {
   "cell_type": "code",
   "execution_count": 132,
   "metadata": {},
   "outputs": [
    {
     "name": "stdout",
     "output_type": "stream",
     "text": [
      "[1, 2, 'abc']\n",
      "[1, 2, 'abc']\n",
      "(1, 2, 'abc')\n",
      "{1, 2, 'abc'}\n",
      "\n",
      "{1, 2, 'abc'}\n",
      "{1, 2, 'abc'}\n",
      "[1, 2, 'abc']\n",
      "(1, 2, 'abc')\n",
      "\n",
      "{'num': 101, 'name': 'ITC'}\n",
      "{'num': 101, 'name': 'ITC'}\n",
      "['num', 'name']\n",
      "{'num', 'name'}\n",
      "('num', 'name')\n",
      "\n"
     ]
    }
   ],
   "source": [
    "\"\"\"\n",
    "Markdown \n",
    "~\n",
    "Explicit - 2\n",
    "\"\"\"\n",
    "\n",
    "#list\n",
    "a = [1, 2, \"abc\"]\n",
    "print(a)\n",
    "#print(int(a))          doesn't even work with [4]\n",
    "#print(float(a))\n",
    "print(str(a))\n",
    "#print(complex(a))        \n",
    "print(tuple(a))         \n",
    "print(set(a))          \n",
    "#print(dict(a))        \n",
    "print()\n",
    "\n",
    "#set\n",
    "a = {1, 2, \"abc\"}\n",
    "print(a)\n",
    "#print(int(a))\n",
    "#print(float(a))\n",
    "print(str(a))\n",
    "#print(complex(a))        \n",
    "print(list(a))         \n",
    "print(tuple(a))          \n",
    "#print(dict(a))        \n",
    "print()\n",
    "\n",
    "#dict\n",
    "a = {\"num\": 101, \"name\": \"ITC\"}\n",
    "print(a)\n",
    "#print(int(a))\n",
    "#print(float(a))\n",
    "print(str(a))\n",
    "#print(complex(a))        \n",
    "print(list(a))         \n",
    "print(set(a))          \n",
    "print(tuple(a))        \n",
    "print()"
   ]
  },
  {
   "cell_type": "markdown",
   "metadata": {},
   "source": [
    "## Mutable & Immutable Variable\n",
    "1. Mutable Variables\n",
    "2. Immutable Variable"
   ]
  },
  {
   "cell_type": "code",
   "execution_count": 133,
   "metadata": {},
   "outputs": [
    {
     "name": "stdout",
     "output_type": "stream",
     "text": [
      "[1, 2, 3]\n",
      "1648006463872\n",
      "\n",
      "[1, 2, 3, 4]\n",
      "1648006463872\n"
     ]
    }
   ],
   "source": [
    "\"\"\"\n",
    "Mutable & Immutable Variable \n",
    "~\n",
    "Mutable Variable\n",
    "\"\"\"\n",
    "a = [1,2,3]\n",
    "print(a)\n",
    "print(id(a))\n",
    "print()\n",
    "\n",
    "a.append(4)\n",
    "print(a)\n",
    "print(id(a))"
   ]
  },
  {
   "cell_type": "code",
   "execution_count": 134,
   "metadata": {},
   "outputs": [
    {
     "name": "stdout",
     "output_type": "stream",
     "text": [
      "ITC\n",
      "1647997948224\n",
      "\n",
      "ITC101\n",
      "1647997897296\n"
     ]
    }
   ],
   "source": [
    "\"\"\"\n",
    "Mutable & Immutable Variable \n",
    "~\n",
    "Immutable Variable\n",
    "\"\"\"\n",
    "a = \"ITC\"\n",
    "print(a)\n",
    "print(id(a))\n",
    "print()\n",
    "\n",
    "a = a + \"101\"\n",
    "print(a)\n",
    "print(id(a))"
   ]
  },
  {
   "cell_type": "markdown",
   "metadata": {},
   "source": [
    "# Python Operator\n",
    "1. Arithmetic Operator  \n",
    "    - \\+\n",
    "    - \\-\n",
    "    - \\/\n",
    "    - %\n",
    "    - //\n",
    "    - \\*\n",
    "    - **\n",
    "\n",
    "2. Assignment Operator\n",
    "    - =\n",
    "    - +=\n",
    "    - -=\n",
    "    - *=\n",
    "    - /=\n",
    "\n",
    "3. Comparision Operator\n",
    "    - ==\n",
    "    - !=\n",
    "    - \\>\n",
    "    - <\n",
    "    - \\>=\n",
    "    - <=\n",
    "\n",
    "4. Logical Operator\n",
    "    - and\n",
    "    - or\n",
    "    - not\n",
    "\n",
    "5. Identity Operator\n",
    "    - is\n",
    "    - is not\n",
    "    \n",
    "6. Membership Operator\n",
    "    - in\n",
    "    - not in\n",
    "\n",
    "7. Bitwise Operator\n",
    "    - &\n",
    "    - |\n",
    "    - ~\n",
    "    - ^\n",
    "    - <<\n",
    "    - \\>>\n"
   ]
  }
 ],
 "metadata": {
  "kernelspec": {
   "display_name": "Python 3",
   "language": "python",
   "name": "python3"
  },
  "language_info": {
   "codemirror_mode": {
    "name": "ipython",
    "version": 3
   },
   "file_extension": ".py",
   "mimetype": "text/x-python",
   "name": "python",
   "nbconvert_exporter": "python",
   "pygments_lexer": "ipython3",
   "version": "3.13.1"
  }
 },
 "nbformat": 4,
 "nbformat_minor": 2
}
