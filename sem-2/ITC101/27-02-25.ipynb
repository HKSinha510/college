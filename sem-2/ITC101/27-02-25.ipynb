{
 "cells": [
  {
   "cell_type": "markdown",
   "metadata": {},
   "source": [
    "> Hardik Kumar Sinha <br>\n",
    "> 34944 <br>\n",
    "> 27 feb 2025 <br>\n",
    "\n",
    "# DataTypes\n",
    "1. Numeric\n",
    "    - Integer\n",
    "    - Float\n",
    "    - Complex\n",
    "\n",
    "2. Dictionary\n",
    "3. Set\n",
    "4. Bool\n",
    "5. Sequence\n",
    "    - List\n",
    "    - Tuple\n",
    "    - String"
   ]
  },
  {
   "cell_type": "code",
   "execution_count": null,
   "metadata": {},
   "outputs": [
    {
     "name": "stdout",
     "output_type": "stream",
     "text": [
      "<class 'int'>\n",
      "<class 'int'>\n",
      "<class 'int'>\n"
     ]
    }
   ],
   "source": [
    "\"\"\"\n",
    "DataType \n",
    "~\n",
    "Numeric\n",
    "\"\"\"\n",
    "# Integer\n",
    "a = 10\n",
    "b = -15\n",
    "c = 0\n",
    "print(type(a))\n",
    "print(type(b))\n",
    "print(type(c))\n",
    "\n"
   ]
  }
 ],
 "metadata": {
  "kernelspec": {
   "display_name": "Python 3",
   "language": "python",
   "name": "python3"
  },
  "language_info": {
   "codemirror_mode": {
    "name": "ipython",
    "version": 3
   },
   "file_extension": ".py",
   "mimetype": "text/x-python",
   "name": "python",
   "nbconvert_exporter": "python",
   "pygments_lexer": "ipython3",
   "version": "3.13.1"
  }
 },
 "nbformat": 4,
 "nbformat_minor": 2
}
