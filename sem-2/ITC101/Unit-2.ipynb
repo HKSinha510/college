{
  "cells": [
    {
      "cell_type": "markdown",
      "metadata": {
        "id": "29stkxpz6gfc"
      },
      "source": [
        "> Hardik Kumar Sinha\n",
        "\n",
        "# Unit 2\n",
        "\n",
        "## Functions / Methods\n",
        "### Declare/ Definition and Calling of Function\n",
        "Syntax: \n",
        "```python\n",
        "def <function_name>():\n",
        "\tblock \n",
        "\tof \n",
        "\tcode\n",
        "\n",
        "\treturn\n",
        "```"
      ]
    },
    {
      "cell_type": "code",
      "execution_count": null,
      "metadata": {
        "id": "uSJshsyDps47"
      },
      "outputs": [],
      "source": [
        "# defining a function\n",
        "def SATI():    \n",
        "\t\tprint(\"Hello\")\n",
        "\t\tprint(\"SATI\")\n",
        "\n",
        "# calling a function\n",
        "SATI()\n",
        "\n",
        "def add(a, b):    \n",
        "\t\tprint(a+b)    \n",
        "\n",
        "ans = Add(25, 30)   #This returns None\n",
        "print(ans)\n",
        "\n",
        "#ans = Add(12)  #raise error because 1 less argument is given\n",
        "\n",
        "def Sub(a, b=0):  #b has default value 0 now. So if nothing is given for b, 0 will be use instead\n",
        "\treturn(a-b)\n",
        "\tprint(\"Run\")    #Function call end at return. After return, nothing will be executed\n",
        "\n",
        "ans = Sub(10)\n",
        "print(ans)"
      ]
    },
    {
      "cell_type": "markdown",
      "metadata": {},
      "source": [
        "### Arguments & Parameter\n",
        "\n",
        "`parameter` are inputs in function inside parenthesis. \n",
        "`arguments` are the values being passed for the function."
      ]
    },
    {
      "cell_type": "code",
      "execution_count": null,
      "metadata": {},
      "outputs": [],
      "source": [
        "def sati(name):\t\t\t\t\t# name is a parameter\n",
        "\tprint(\"Hello,\", name)\n",
        "\n",
        "print(sati(\"atul\"))\t\t\t\t# atul is argument"
      ]
    },
    {
      "cell_type": "code",
      "execution_count": null,
      "metadata": {},
      "outputs": [],
      "source": [
        "\"\"\"\n",
        "HW: WRite a program for addition, multiplication, subtraction of two number by taking user input\n",
        "\"\"\"\n",
        "\n",
        "def add(a, b):\n",
        "\treturn a + b\n",
        "\n",
        "def mult(a, b):\n",
        "\treturn a * b\n",
        "\n",
        "def sub(a, b):\n",
        "\treturn a - b\n",
        "\n",
        "num1 = int(input(\"Enter a number: \"))\n",
        "num2 = int(input(\"Enter another number: \"))\n",
        "\n",
        "print(\"Addition:\", add(num1, num2))\n",
        "print(\"Subtraction:\", sub(num1, num2))\n",
        "print(\"Multiplication:\", mult(num1, num2))"
      ]
    },
    {
      "cell_type": "markdown",
      "metadata": {
        "id": "qbKDxNqJ6kJg"
      },
      "source": [
        "### Some built in functions"
      ]
    },
    {
      "cell_type": "code",
      "execution_count": null,
      "metadata": {
        "id": "kWGaF5nHn8Cf"
      },
      "outputs": [],
      "source": [
        "print(\"Hello\"+\"World\",28)\n",
        "#In print() each argument is automatically get separated by single space"
      ]
    },
    {
      "cell_type": "code",
      "execution_count": null,
      "metadata": {
        "id": "vAUyeBPJ0gbf"
      },
      "outputs": [],
      "source": [
        "a, b = map(int, input(\"Enter numbers\").split(\" \"))    #takes multiple input in single line in two separate variables"
      ]
    },
    {
      "cell_type": "markdown",
      "metadata": {
        "id": "x8uMkbxSXzfa"
      },
      "source": [
        "## Conditional Statement\n",
        "Use to make decision in program based on certain relational, logical or boolean conditions.\n",
        "\n",
        "\n",
        "### Types of Conditional Statement\n",
        "\n",
        "1. `if`\n",
        "2. `if else`\n",
        "3. `if elif else`\n",
        "4. `nested if`\n",
        "5. `Ternary operator`"
      ]
    },
    {
      "cell_type": "markdown",
      "metadata": {
        "id": "jm--32n8fAAg"
      },
      "source": [
        "## Loop\n",
        "Two types:\n",
        "1. for loop -> runs for n number of times\n",
        "2. while loop -> runs indefinetly until given condition is found True"
      ]
    },
    {
      "cell_type": "code",
      "execution_count": null,
      "metadata": {
        "id": "QMDgNDGFfBQ_"
      },
      "outputs": [],
      "source": [
        "fruits = [\"apple\", \"mango\", \"banana\", \"pineapple\", \"orange\"]\n",
        "\n",
        "for i in fruits: \n",
        "\tprint(i)           \t#list\n",
        "\n",
        "print()\n",
        "for i in fruits[3]: \n",
        "\tprint(i)        \t#string\n",
        "\n",
        "print()\n",
        "for i in tuple(fruits): \n",
        "\tprint(i)    \t\t#tuple\n",
        "\n",
        "print()\n",
        "for i in set(fruits): \n",
        "\tprint(i)      \t\t#set"
      ]
    },
    {
      "cell_type": "code",
      "execution_count": null,
      "metadata": {
        "id": "FDHvwIUChgyn"
      },
      "outputs": [],
      "source": [
        "dict = {\n",
        "\t\"Name\" : \"Koustubh\",\n",
        "\t\"Branch\" : \"AIADS\",\n",
        "\t\"Year\" : \"1st\"\n",
        "}\n",
        "print(\"These are keys\")\n",
        "for i in dict: print(i)                     #display keys\n",
        "for i in dict.keys(): print(i)              #display keys\n",
        "\n",
        "print(\"\\n\\nThese are values\")\n",
        "for i in dict: print(dict[i])               #display values\n",
        "for i in dict.values(): print(i)\n",
        "\n",
        "print(\"\\n\\nThese are items\")\n",
        "for i in dict: print(f\"{i} -> {dict[i]}\")   #display items\n",
        "for i in dict.items(): print(i)"
      ]
    },
    {
      "cell_type": "code",
      "execution_count": null,
      "metadata": {
        "id": "G-Oc0Vd9hjhL"
      },
      "outputs": [],
      "source": [
        "for i in range(0, 21): print(i)"
      ]
    },
    {
      "cell_type": "code",
      "execution_count": null,
      "metadata": {
        "id": "EAr4wyzBhwwt"
      },
      "outputs": [],
      "source": [
        "for i in range(10, 21): print(i)"
      ]
    },
    {
      "cell_type": "code",
      "execution_count": null,
      "metadata": {
        "id": "Evlk4VGKhxgV"
      },
      "outputs": [],
      "source": [
        "for i in range(1, 16, 2): print(i)"
      ]
    },
    {
      "cell_type": "code",
      "execution_count": null,
      "metadata": {
        "id": "HEqmZOZaiVHf"
      },
      "outputs": [],
      "source": [
        "for i in range(10, 1): print(i)   #range function wont work because default step is 1 and value will increase from 10 and never reach 1\n",
        "for i in range(1, 10, -1): print(i)   #range function wont work because step is -1 and value will decrease from 1 and never reach 10"
      ]
    },
    {
      "cell_type": "code",
      "execution_count": null,
      "metadata": {
        "id": "q7qbchG3h1VM"
      },
      "outputs": [],
      "source": [
        "for i in range(10, 1, -1): print(i)"
      ]
    },
    {
      "cell_type": "markdown",
      "metadata": {
        "id": "A7T5EekhtBCW"
      },
      "source": [
        "## Homework"
      ]
    },
    {
      "cell_type": "code",
      "execution_count": null,
      "metadata": {
        "id": "xTeMjxVOq8N4"
      },
      "outputs": [],
      "source": [
        "#Repeating functions - Run this block before runnning any other block below\n",
        "\n",
        "def conv_numeric(num1):\n",
        "\tif '.' in num:\n",
        "\t\tnum = float(num)\n",
        "\telse: num = int(num)\n",
        "\treturn num"
      ]
    },
    {
      "cell_type": "code",
      "execution_count": null,
      "metadata": {
        "id": "jDHW3CesSQKG"
      },
      "outputs": [],
      "source": [
        "# Write a program for addition, subtraction, multiplication, division of two numbers by taking user input in a function\n",
        "\n",
        "def add(num1, num2):\n",
        "\treturn num1 + num2\n",
        "\n",
        "def sub(minuend, subtrahend):\n",
        "\treturn minuend - subtrahend\n",
        "\n",
        "def prod(num1, num2):\n",
        "\treturn num1*num2\n",
        "\n",
        "def div(dividend, divisor):\n",
        "\treturn divisor/divisor\n",
        "\n",
        "#input values\n",
        "num1 = conv_numeric(input(\"Enter num1/ minuend/ dividend)\"))\n",
        "num2 = conv_numeric(input(\"Enter num2/ subtrahend/ divisor)\"))\n",
        "\n",
        "#ask which input is needed\n",
        "print(\"Enter:\\n\\\n",
        "1 for Add\\n\\\n",
        "2 for Subtract\\n\\\n",
        "3 for Multiply\\n\\\n",
        "4 for Divide\")\n",
        "operation = int(input(\"input:\"))\n",
        "\n",
        "if   operation == 1: print(\"Ans\", add(num1, num2))\n",
        "elif operation == 2: print(\"Ans\", sub(num1, num2))\n",
        "elif operation == 3: print(\"Ans\", prod(num1, num2))\n",
        "elif operation == 4: print(\"Ans\", div(num1, num2))"
      ]
    },
    {
      "cell_type": "code",
      "execution_count": null,
      "metadata": {
        "id": "gAd59N8K7J9K"
      },
      "outputs": [],
      "source": [
        "#check if num is even or odd\n",
        "num = conv_numeric(input(\"Enter num:\"))\n",
        "\n",
        "if num % 2 == 0: print(\"Num is Even\")\n",
        "else: print(\"Num is odd\")"
      ]
    },
    {
      "cell_type": "code",
      "execution_count": null,
      "metadata": {
        "id": "1C9W1oFt9R4r"
      },
      "outputs": [],
      "source": [
        "#input a number and print whether it is greater than 5 or lesser than 5\n",
        "#use if else\n",
        "#use ternary operator\n",
        "\n",
        "num = conv_numeric(input(\"Enter a number:\"))\n",
        "\n",
        "print(\"Using if else\")\n",
        "if num < 5: print(f\"{num} is lesser than 5\")\n",
        "elif num > 5: print(f\"{num} is greater than 5\")\n",
        "else: print(f\"{num} is equal to 5\")\n",
        "\n",
        "print(\"Using ternary operator. This wont work for 5 == 5\")\n",
        "answer = f\"{num} is lesser than 5\" if num < 5 else f\"{num} is greater than 5\"\n",
        "print(answer)"
      ]
    },
    {
      "cell_type": "code",
      "execution_count": null,
      "metadata": {
        "id": "2hzEoih5_gv_"
      },
      "outputs": [],
      "source": [
        "#Take student marks as input\n",
        "marks = conv_numeric(input(\"Enter your marks\"))\n",
        "\n",
        "if marks < 50: print(\"You fail\")\n",
        "else:print(\"You pass\")"
      ]
    },
    {
      "cell_type": "code",
      "execution_count": null,
      "metadata": {
        "id": "Q64Rg0SZC4Mu"
      },
      "outputs": [],
      "source": [
        "#Take 3 numbers as input and print largest in them\n",
        "num1 = conv_numeric(input(\"Enter first number\"))\n",
        "num2 = conv_numeric(input(\"Enter second number\"))\n",
        "num3 = conv_numeric(input(\"Enter third number\"))\n",
        "\n",
        "#num1, num2, num3 = map(float, input(\"Enter numbers separated by comma\".split(',')))\n",
        "\n",
        "if num1 > num2 and num1 > num3:\n",
        "\tprint(f\"{num1} is greatest\")\n",
        "elif num2 > num1 and num2 > num3:\n",
        "\tprint(f\"{num1} is greatest\")\n",
        "elif num3 > num1 and num3 > num2:\n",
        "\tprint(f\"{num1} is greatest\")"
      ]
    },
    {
      "cell_type": "code",
      "execution_count": null,
      "metadata": {
        "id": "8TCYE0ivJ3p1"
      },
      "outputs": [],
      "source": [
        "angle1 = conv_numeric(input(\"First angle:\"))\n",
        "angle2 = conv_numeric(input(\"Second angle:\"))\n",
        "angle3 = conv_numeric(input(\"Third angle:\"))\n",
        "\n",
        "sum = angle1 + angle2 + angle3\n",
        "print(\"Sum of given three angles =\", sum)\n",
        "\n",
        "if sum == 180:\n",
        "\tprint(f\"{angle1}, {angle2} and {angle3} form a valid triangle\")\n",
        "else:\n",
        "\tprint(f\"{angle1}, {angle2} and {angle3} does not form a valid triangle\")\n"
      ]
    },
    {
      "cell_type": "code",
      "execution_count": null,
      "metadata": {
        "id": "nVV_rgHlHf2-"
      },
      "outputs": [],
      "source": [
        "#check if number is positive, negative or zero\n",
        "num = conv_numeric(input(\"Enter number:\"))\n",
        "\n",
        "if num < 0: print(\"num is negative\")\n",
        "elif num > 0: print(\"num is positive\")\n",
        "else: print(\"num is zero\")"
      ]
    },
    {
      "cell_type": "code",
      "execution_count": null,
      "metadata": {
        "id": "ckomW1sKHXut"
      },
      "outputs": [],
      "source": [
        "#check if number is positive, negative or zero without using int() float()\n",
        "num = input(\"Enter number:\")\n",
        "zero = True\n",
        "neg = False\n",
        "\n",
        "if '.' in num:\n",
        "\tnum = num.replace('.','',1)\n",
        "if '-' == num[0]:\n",
        "\tnum = num.replace('-','',1)\n",
        "\tneg = True\n",
        "\n",
        "if num.isnumeric():\n",
        "\tfor x in num:\n",
        "\t\tif x != '0':\n",
        "\t\t\tzero = False\n",
        "\t\t\tbreak\n",
        "\n",
        "\tif zero == True: print(\"Num is zero\")\n",
        "\telif neg == True: print(\"Num is negative\")\n",
        "\telif neg == False: print(\"Num  is positive\")\n",
        "\n",
        "else: print(\"VALUE ERROR\")"
      ]
    },
    {
      "cell_type": "code",
      "execution_count": null,
      "metadata": {
        "id": "qOjRCD60LYHN"
      },
      "outputs": [],
      "source": [
        "#discount calculator\n",
        "PAmount = conv_numeric(input(\"Enter total purchase amount:\"))\n",
        "\n",
        "def discount(PAmount, discount):\n",
        "\tprint(f\"Purchase amount is greater than 500\")\n",
        "\tprint(f\"Hence, {discount}% discount is applicable\")\n",
        "\tprint()\n",
        "\n",
        "\tDAmount= PAmount*discount/100\n",
        "\tprint(f\"Total prize:{PAmount}\")\n",
        "\tprint(f\"Discount applicable:{discount}%\")\n",
        "\tprint(f\"Discounted Amount:{DAmount}\")\n",
        "\tprint(f\"Net payable amount:{PAmount-DAmount}\")\n",
        "\n",
        "if PAmount > 1000:\n",
        "\tDPercent = 50\n",
        "elif PAmount > 500:\n",
        "\tDPercent = 20\n",
        "else:\n",
        "\tDPercent = 0\n",
        "\n",
        "discount(PAmount, DPercent)"
      ]
    },
    {
      "cell_type": "code",
      "execution_count": null,
      "metadata": {
        "id": "o2ED9pxDUW2o"
      },
      "outputs": [],
      "source": [
        "side1 = conv_numeric(input(\"First side:\"))\n",
        "side2 = conv_numeric(input(\"Second side:\"))\n",
        "side3 = conv_numeric(input(\"Third side:\"))\n",
        "\n",
        "if side1 + side2 > side3 and side1 + side3 > side2:\n",
        "\n",
        "\tif side1 == side2 and side2 == side3:     #if a=b and b=c then, a=c\n",
        "\t\tprint(\"Given sides form an equilateral triangle\")\n",
        "\telif side1 == side2 or side1 == side3 or side2 == side3:\n",
        "\t\tprint(\"Given sides form an isosceles triangle\")\n",
        "\telse:\n",
        "\t\tprint(\"Given sides form an isosceles triangle\")\n",
        "\n",
        "else:\n",
        "\n",
        "\tprint(\"Triangle not form\")\n"
      ]
    },
    {
      "cell_type": "code",
      "execution_count": null,
      "metadata": {
        "id": "ApV-KVrO-uXh"
      },
      "outputs": [],
      "source": [
        "#Take two numbers as input and print which is greater\n",
        "num1 = input(\"Enter first number:\")\n",
        "num2 = input(\"Enter second number:\")\n",
        "\n",
        "#change to numeric datatype\n",
        "if \".\" in num1 or \".\" in num2:\n",
        "\tnum1= float(num1)\n",
        "\tnum2= float(num2)\n",
        "else:\n",
        "\tnum1= int(num1)\n",
        "\tnum2= int(num2)\n",
        "\n",
        "if num1 > num2: print(num1, \"is greater\")\n",
        "elif num1 < num2: print(num2, \"is greater\")\n",
        "else: print(\"Both number are equal\")"
      ]
    },
    {
      "cell_type": "code",
      "execution_count": null,
      "metadata": {
        "id": "w0th-3DNdGr6"
      },
      "outputs": [],
      "source": [
        "#check if num is even or odd without int() function\n",
        "num = input(\"Enter num:\")\n",
        "odd = tuple('13579')\n",
        "even = tuple('02468')\n",
        "\n",
        "if '.' in num:\n",
        "\tnum = num.replace('.','',1)\n",
        "if '-' == num[0]:\n",
        "\tnum = num.replace('-','',1)\n",
        "\n",
        "if not num.isnumeric():\n",
        "\tprint(\"VALUE ERROR\")\n",
        "else:\n",
        "\tif num[-1] in even: print(\"Num is Even\")\n",
        "\telse: print(\"Num is odd\")\n",
        "\n",
        "\n",
        "#NOTE: Make this work for expressions as well. It does not happen in int() float() function\n",
        "#if odd number of odd numbers are added/ subtracted/ multiply, the result is odd\n",
        "#if even number of odd numbers are added/ subtracted/ multiply, the result is even"
      ]
    },
    {
      "cell_type": "code",
      "execution_count": null,
      "metadata": {
        "id": "mSf1aV3QyWpN"
      },
      "outputs": [],
      "source": [
        "#Take two numbers as input and print which is greater without using int, float function\n",
        "num1 = input(\"Enter first number:\")\n",
        "num2 = input(\"Enter second number:\")\n",
        "'''\n",
        "if '.' in num:\n",
        "\tnum = num.replace('.','',1)\n",
        "if '-' == num[0]:\n",
        "\tnum = num.replace('-','',1)\n",
        "\n",
        "if not num.isnumeric():\n",
        "\tprint(\"VALUE ERROR\")\n",
        "else:\n",
        "\n",
        "\tif num[-1] in even: print(\"Num is Even\")\n",
        "\telse: print(\"Num is odd\")\n",
        "\t'''"
      ]
    },
    {
      "cell_type": "code",
      "execution_count": null,
      "metadata": {
        "id": "j2C_FmdrQrkI"
      },
      "outputs": [],
      "source": [
        "#Temp convertor\n",
        "\n",
        "temp, unit = input(\"Enter temperature (eg- 12 C):\").split(\" \")\n",
        "temp = conv_numeric(temp)\n",
        "\n",
        "if unit == 'F':\n",
        "\tNtemp = temp*(9/5) + 32\n",
        "\tprint(f\"{temp} F => {Ntemp} C\")\n",
        "\n",
        "elif unit == 'C':\n",
        "\tNtemp = (temp - 32)*(5/9)\n",
        "\tprint(f\"{temp} C => {Ntemp} F\")\n",
        "\n",
        "else:\n",
        "\tprint(\"Invalid unit\")"
      ]
    },
    {
      "cell_type": "code",
      "execution_count": null,
      "metadata": {
        "id": "tA6oITy2FKuk"
      },
      "outputs": [],
      "source": [
        "#Take a single character as input\n",
        "\n",
        "char = input(\"Enter a single character\")\n",
        "ascii = ord(char)\n",
        "\n",
        "if ascii >= 48 and ascii <=  57:\n",
        "\tprint(f\"{char} is a string digit\")\n",
        "\t#print(f\"ASCII code = {48+int(char)}\")    #without using ord or ascii\n",
        "\n",
        "elif ascii >= 65 and ascii <=  90:\n",
        "\tprint(f\"{char} is a capital letter\")\n",
        "\n",
        "elif ascii >= 97 and ascii <=  122:\n",
        "\tprint(f\"{char} is a small letter\")\n",
        "\n",
        "elif ascii >= 32 and ascii <= 126:\n",
        "\tprint(f\"{char} is special character\")\n",
        "\n",
        "print(f\"ASCII code = {ascii}\")      #where ascii = ord(char)"
      ]
    },
    {
      "cell_type": "markdown",
      "metadata": {
        "id": "LgCUcDydJZzh"
      },
      "source": [
        "#Assignment"
      ]
    },
    {
      "cell_type": "code",
      "execution_count": null,
      "metadata": {
        "id": "13WYWgB1JaB_"
      },
      "outputs": [],
      "source": [
        "#Print all even number form 1 to 20\n",
        "#using steps\n",
        "for i in range(2, 21, 2):\n",
        "\tprint (i, end=' ')\n",
        "\n",
        "print()\n",
        "#using condition\n",
        "for i in range(1, 21):\n",
        "\tif i%2 == 0:\n",
        "\t\tprint(i, end=\" \")"
      ]
    },
    {
      "cell_type": "code",
      "execution_count": null,
      "metadata": {
        "id": "B6OHcWGvJ7Tw"
      },
      "outputs": [],
      "source": [
        "#Find the sum of numbers from 1 to 10\n",
        "sum = 0\n",
        "for i in range(1, 11):\n",
        "\tsum += i\n",
        "print(sum)"
      ]
    },
    {
      "cell_type": "code",
      "execution_count": null,
      "metadata": {
        "id": "UzoUCEGjKNQ9"
      },
      "outputs": [],
      "source": [
        "#Create a multiplaction table of a given number\n",
        "num = input(\"Enter a number:\")\n",
        "#conv_numeric(num)\n",
        "\n",
        "if '.' in num:\n",
        "\tnum = float(num)\n",
        "else: num = int(num)\n",
        "\n",
        "for i in range(1, 11):\n",
        "\tprint(f\"{num} times {i} is {num*i}\")"
      ]
    },
    {
      "cell_type": "code",
      "execution_count": null,
      "metadata": {
        "id": "qy8Gn0OXLg17"
      },
      "outputs": [],
      "source": [
        "#Loop through a list of student names and print a greeting\n",
        "names = (\"Koustubh\", \"Aashay\", \"Hardik\", \"Rahul\", \"Gaurav\", \"Daksh\")\n",
        "\n",
        "for i in names:\n",
        "\tprint(\"Hello,\", i)"
      ]
    },
    {
      "cell_type": "code",
      "execution_count": null,
      "metadata": {
        "id": "wkofgysXRD8J"
      },
      "outputs": [],
      "source": [
        "#Loop through a list of student names and print a random greeting\n",
        "import random\n",
        "names = (\"Koustubh\", \"Aashay\", \"Hardik\", \"Rahul\", \"Gaurav\", \"Daksh\")\n",
        "greetings = [\"Hello\", \"Hi\", \"Hey\", \"Greetings\", \"Good Morning\"]\n",
        "\n",
        "for i in names:\n",
        "\tprint(random.choice(greetings), i)"
      ]
    },
    {
      "cell_type": "code",
      "execution_count": null,
      "metadata": {
        "id": "A7oafEgJM0oS"
      },
      "outputs": [],
      "source": [
        "#Write a program that prints the square of all the numbers from 1 to 10 using loops\n",
        "for i in range(1, 11):\n",
        "\tprint(f\"Sqaure of {i} = {i**2}\")"
      ]
    },
    {
      "cell_type": "code",
      "execution_count": null,
      "metadata": {
        "id": "Vrx5asqMNKxa"
      },
      "outputs": [],
      "source": [
        "#Find factotrial\n",
        "num = input(\"Enter a number:\")\n",
        "#conv_numeric(num)\n",
        "\n",
        "if '.' in num:\n",
        "\tnum = float(num)\n",
        "else: num = int(num)\n",
        "\n",
        "factorial = 1\n",
        "for i in range(1, num+1):\n",
        "\tfactorial *= i\n",
        "print(factorial)"
      ]
    },
    {
      "cell_type": "code",
      "execution_count": null,
      "metadata": {
        "id": "Ur0YdohnN9eO"
      },
      "outputs": [],
      "source": [
        "'''\n",
        "Print pattern\n",
        "\n",
        "*\n",
        "\n",
        "**\n",
        "\n",
        "***\n",
        "'''\n",
        "for i in range(1,4):\n",
        "\tprint()\n",
        "\tprint('*'*i)"
      ]
    },
    {
      "cell_type": "code",
      "execution_count": null,
      "metadata": {
        "id": "GlkcNX0sOb0J"
      },
      "outputs": [],
      "source": [
        "#sum of digit of number\n",
        "num = input(\"Enter a number:\")\n",
        "if '.' in num:\n",
        "\tnum = num.replace('.','',1)\n",
        "if '-' == num[0]:\n",
        "\tnum = num.replace('-','',1)\n",
        "\n",
        "sum= 0\n",
        "for i in num:\n",
        "\tsum += int(i)\n",
        "\n",
        "print(sum)"
      ]
    },
    {
      "cell_type": "code",
      "execution_count": null,
      "metadata": {
        "id": "nxmPYS7CQBdp"
      },
      "outputs": [],
      "source": [
        "#count digit in number\n",
        "num = input(\"Enter a number:\")\n",
        "if '.' in num:\n",
        "\tnum = num.replace('.','',1)\n",
        "if '-' == num[0]:\n",
        "\tnum = num.replace('-','',1)\n",
        "\n",
        "if num.isnumeric():\n",
        "\tcount = 0\n",
        "\tfor i in num:\n",
        "\t\tcount += 1\n",
        "\tprint(count)\n",
        "else:\n",
        "\tprint(\"Give only number\")"
      ]
    },
    {
      "cell_type": "markdown",
      "metadata": {
        "id": "LD-h-UGqR6wi"
      },
      "source": [
        "### Program using while loops"
      ]
    },
    {
      "cell_type": "code",
      "execution_count": null,
      "metadata": {
        "id": "LvrhtM8pSCR6"
      },
      "outputs": [],
      "source": [
        "#Print all even number form 1 to 20\n",
        "#using steps\n",
        "i=2\n",
        "while i<=20:\n",
        "\tif i%2 == 0:\n",
        "\t\tprint(i, end=\" \")\n",
        "\ti+=2\n",
        "\n",
        "print()\n",
        "#using condition\n",
        "i=1\n",
        "while i<=20:\n",
        "\tif i%2 == 0:\n",
        "\t\tprint(i, end=\" \")\n",
        "\ti+=1"
      ]
    },
    {
      "cell_type": "code",
      "execution_count": null,
      "metadata": {
        "id": "a6nmzU3vSCR9"
      },
      "outputs": [],
      "source": [
        "#Find the sum of numbers from 1 to 10\n",
        "sum, i = 0, 1\n",
        "while i<=10:\n",
        "\tsum += i\n",
        "\ti += 1\n",
        "print(sum)"
      ]
    },
    {
      "cell_type": "code",
      "execution_count": null,
      "metadata": {
        "id": "mYb87ASRSCR_"
      },
      "outputs": [],
      "source": [
        "#Loop through a list of student names and print a greeting\n",
        "names = (\"Koustubh\", \"Aashay\", \"Hardik\", \"Rahul\", \"Gaurav\", \"Daksh\")\n",
        "\n",
        "i=0\n",
        "while i<len(names):\n",
        "\tprint(\"Hello,\", names[i])\n",
        "\ti += 1"
      ]
    },
    {
      "cell_type": "code",
      "execution_count": null,
      "metadata": {
        "id": "KSBFMq62SCR_"
      },
      "outputs": [],
      "source": [
        "#Loop through a list of student names and print a random greeting\n",
        "import random\n",
        "names = (\"Koustubh\", \"Aashay\", \"Hardik\", \"Rahul\", \"Gaurav\", \"Daksh\")\n",
        "greetings = [\"Hello\", \"Hi\", \"Hey\", \"Greetings\", \"Good Morning\"]\n",
        "\n",
        "i = 0\n",
        "while i < len(names):\n",
        "\tprint(random.choice(greetings), names[i])\n",
        "\ti += 1"
      ]
    },
    {
      "cell_type": "code",
      "execution_count": null,
      "metadata": {
        "id": "DdZ4WpA1SCR_"
      },
      "outputs": [],
      "source": [
        "#Write a program that prints the square of all the numbers from 1 to 10 using loops\n",
        "i = 1\n",
        "while i <= 10:\n",
        "\tprint(f\"Sqaure of {i} = {i**2}\")\n",
        "\ti += 1"
      ]
    },
    {
      "cell_type": "code",
      "execution_count": null,
      "metadata": {
        "id": "HZo92ex_SCSB"
      },
      "outputs": [],
      "source": [
        "'''\n",
        "Print pattern\n",
        "\n",
        "*\n",
        "\n",
        "**\n",
        "\n",
        "***\n",
        "'''\n",
        "i=1\n",
        "while i<=3:\n",
        "\tprint()\n",
        "\tprint('*'*i)\n",
        "\ti+=1"
      ]
    },
    {
      "cell_type": "code",
      "execution_count": null,
      "metadata": {
        "id": "Y0dF8NcOSCSB"
      },
      "outputs": [],
      "source": [
        "#sum of digit of number\n",
        "num = input(\"Enter a number:\")\n",
        "if '.' in num:\n",
        "\tnum = num.replace('.','',1)\n",
        "if '-' == num[0]:\n",
        "\tnum = num.replace('-','',1)\n",
        "\n",
        "sum= i= 0\n",
        "while i < len(num):\n",
        "\tsum += int(num[i])\n",
        "\ti+=1\n",
        "\n",
        "print(sum)"
      ]
    },
    {
      "cell_type": "code",
      "execution_count": null,
      "metadata": {
        "id": "hHmv5eiVczve"
      },
      "outputs": [],
      "source": [
        "#Print number 1 to 5\n",
        "i = 1\n",
        "while i<= 5:\n",
        "\tprint(i, end=\" \")\n",
        "\ti+=1"
      ]
    },
    {
      "cell_type": "code",
      "execution_count": null,
      "metadata": {
        "id": "_TIy_kBldJ-5"
      },
      "outputs": [],
      "source": [
        "#Sum of first 10 natural number\n",
        "sum = i = 1\n",
        "while i< 10:\n",
        "\ti+=1\n",
        "\tsum+=i\n",
        "print(sum)"
      ]
    },
    {
      "cell_type": "code",
      "execution_count": null,
      "metadata": {
        "id": "lGZhHMEEdxL4"
      },
      "outputs": [],
      "source": [
        "#Print even number form 1 to 10\n",
        "i = 2\n",
        "while i<=10:\n",
        "\tprint(i)\n",
        "\ti+=2"
      ]
    },
    {
      "cell_type": "code",
      "execution_count": null,
      "metadata": {
        "id": "jRS3ii_weLih"
      },
      "outputs": [],
      "source": [
        "#Print number in reverse\n",
        "num = input(\"Enter num:\")\n",
        "i = len(num)\n",
        "if '-' == num[0]:\n",
        "\tnum = num.replace('-','',1)\n",
        "\n",
        "new = ''\n",
        "if num.replace('.','',1).isnumeric():\n",
        "\tcount= i= 0\n",
        "\twhile i > 0:\n",
        "\t\ti-=1\n",
        "\t\tnew+= num[i]\n",
        "else:\n",
        "\tprint(\"Give a number\")\n",
        "print(new)"
      ]
    },
    {
      "cell_type": "code",
      "execution_count": null,
      "metadata": {
        "id": "PWtH5MXihvYo"
      },
      "outputs": [],
      "source": [
        "#Print number in reverse using arithmatic\n",
        "num =52866\n",
        "reverse=0\n",
        "while num > 0:\n",
        "\tremainder = num%10\n",
        "\treverse = reverse*10+ remainder\n",
        "\tnum = num//10\n",
        "\ti += 1\n",
        "\n",
        "print(reverse)"
      ]
    },
    {
      "cell_type": "code",
      "execution_count": null,
      "metadata": {
        "id": "-0qI5ZVQSCSB"
      },
      "outputs": [],
      "source": [
        "#Find factotrial\n",
        "num = input(\"Enter a number:\")\n",
        "#conv_numeric(num)\n",
        "\n",
        "if '.' in num:\n",
        "\tnum = float(num)\n",
        "else: num = int(num)\n",
        "\n",
        "factorial = i = 1\n",
        "\n",
        "while i <= num:\n",
        "\tfactorial *= i\n",
        "\ti+=1\n",
        "print(factorial)"
      ]
    },
    {
      "cell_type": "code",
      "execution_count": null,
      "metadata": {
        "id": "ZxkPIyLOSCR_"
      },
      "outputs": [],
      "source": [
        "#Create a multiplaction table of a given number\n",
        "num = input(\"Enter a number:\")\n",
        "#conv_numeric(num)\n",
        "\n",
        "if '.' in num:\n",
        "\tnum = float(num)\n",
        "else: num = int(num)\n",
        "\n",
        "i=1\n",
        "while i<=10:\n",
        "\tprint(f\"{num} times {i} is {num*i}\")\n",
        "\ti+=1"
      ]
    },
    {
      "cell_type": "code",
      "execution_count": null,
      "metadata": {
        "id": "tgxxZMmiSCSB"
      },
      "outputs": [],
      "source": [
        "#count digit in number\n",
        "num = input(\"Enter a number:\")\n",
        "if '.' in num:\n",
        "\tnum = num.replace('.','',1)\n",
        "if '-' == num[0]:\n",
        "\tnum = num.replace('-','',1)\n",
        "\n",
        "if num.isnumeric():\n",
        "\tcount= i= 0\n",
        "\twhile i < len(num):\n",
        "\t\tcount += 1\n",
        "\t\ti+=1\n",
        "\tprint(count)\n",
        "else:\n",
        "\tprint(\"Give only number\")"
      ]
    },
    {
      "cell_type": "code",
      "execution_count": null,
      "metadata": {
        "id": "nM-s7lOif8Rd"
      },
      "outputs": [],
      "source": [
        "#print first 10 multiples of a number\n",
        "num = input(\"Enter a number:\")\n",
        "#conv_numeric(num)\n",
        "\n",
        "if '.' in num:\n",
        "\tnum = float(num)\n",
        "else: num = int(num)\n",
        "\n",
        "i=1\n",
        "while i<=10:\n",
        "\tprint(num*i, end= \" \")\n",
        "\ti+=1"
      ]
    },
    {
      "cell_type": "markdown",
      "metadata": {
        "id": "8XkkUDbPkweo"
      },
      "source": [
        "## NESTED LOOPS"
      ]
    },
    {
      "cell_type": "code",
      "execution_count": null,
      "metadata": {
        "id": "ET-7R5SekynH"
      },
      "outputs": [],
      "source": [
        "''' print\n",
        "\n",
        "* * * * *\n",
        "* * * * *\n",
        "* * * * *\n",
        "'''\n",
        "\n",
        "for i in range(3):\n",
        "\tfor j in range(5):\n",
        "\t\tprint(\"*\", end=' ')\n",
        "\tprint()"
      ]
    },
    {
      "cell_type": "code",
      "execution_count": null,
      "metadata": {
        "id": "BG2Mt1PLoQd2"
      },
      "outputs": [],
      "source": [
        "''' print\n",
        "\n",
        "*\n",
        "**\n",
        "***\n",
        "****\n",
        "'''\n",
        "\n",
        "for i in range(4):\n",
        "  for j in range(1, 5):\n",
        "\tprint(\"*\"*j)\n",
        "  print()"
      ]
    },
    {
      "cell_type": "markdown",
      "metadata": {
        "id": "7_3nDymHSYfg"
      },
      "source": [
        "## Control Statement\n",
        "\n",
        "### continue"
      ]
    },
    {
      "cell_type": "code",
      "execution_count": null,
      "metadata": {
        "id": "IRCi8A2ZSYB5"
      },
      "outputs": [],
      "source": [
        "#print number from 1 to 20 but skip multiples of 5\n",
        "\n",
        "for num in range(21):\n",
        "  if num%5 == 0: continue\n",
        "  print(num)"
      ]
    },
    {
      "cell_type": "code",
      "execution_count": null,
      "metadata": {
        "id": "9dkUMGYnS1Yb"
      },
      "outputs": [],
      "source": [
        "# print only the vowels from a given string, skip the consonants\n",
        "vowels = tuple('aeiouAEIOU')\n",
        "string = input(\"Enter a string:\")\n",
        "\n",
        "for letter in string:\n",
        "  if letter not in vowels: continue\n",
        "  print(letter)"
      ]
    },
    {
      "cell_type": "code",
      "execution_count": null,
      "metadata": {
        "id": "JGRrN76Na94w"
      },
      "outputs": [],
      "source": [
        "# print odd number from 1 to 30 using continue\n",
        "for num in range(31):\n",
        "\tif num%2 == 0: continue\n",
        "\tprint(num)"
      ]
    },
    {
      "cell_type": "code",
      "execution_count": null,
      "metadata": {
        "id": "LmcVZiAOZqeP"
      },
      "outputs": [],
      "source": [
        "#Loop through a list of names and skip names that start with 'A'\n",
        "friends = [\"Aashay\", \"Anshika\", \"Hardik\", \"Ansh\", \"Daksh\", \"Atul\" \"Rishita\", \"Arpit\"]\n",
        "\n",
        "for name in friends:\n",
        "\tif name[0] == 'A': continue\n",
        "\tprint(name)"
      ]
    },
    {
      "cell_type": "markdown",
      "metadata": {
        "id": "0DiI-hn3TtqU"
      },
      "source": [
        "### break"
      ]
    },
    {
      "cell_type": "code",
      "execution_count": null,
      "metadata": {
        "id": "IVc1QviWTu96"
      },
      "outputs": [],
      "source": [
        "#Print number from 1 to 100, but stop the loop when the number reaches 45\n",
        "\n",
        "for num in range(101):\n",
        "\tif num == 45: break\n",
        "\tprint(num)"
      ]
    },
    {
      "cell_type": "code",
      "execution_count": null,
      "metadata": {
        "id": "tMNx6WY7UDQI"
      },
      "outputs": [],
      "source": [
        "#Keep asking the user to enter a password until it is correct. break the loop once correct password is entered\n",
        "import getpass\n",
        "PASSWORD = \"1\"\n",
        "\n",
        "while True:\n",
        "\tpasswd = getpass.getpass(\"Enter Password:\")\n",
        "\tif passwd == PASSWORD:\n",
        "\t\tprint(\"Welcome user\")\n",
        "\t\tbreak\n",
        "\tprint(\"Incorrect password. Please try again\")\n"
      ]
    },
    {
      "cell_type": "code",
      "execution_count": null,
      "metadata": {
        "id": "GuyH5bt4VKmI"
      },
      "outputs": [],
      "source": [
        "#Loop through a string and Stop when the character 'x' is found\n",
        "string = input(\"Enter string:\")\n",
        "\n",
        "for ch in string:\n",
        "\tprint(ch)\n",
        "\tif ch == 'x': break"
      ]
    },
    {
      "cell_type": "code",
      "execution_count": null,
      "metadata": {
        "id": "jHN6lBhbV3hR"
      },
      "outputs": [],
      "source": [
        "#Find the first number divisible by 9 in a list and print it, then stop the loop\n",
        "lst = [63, 463, 36, 253, 567, 25, 47, 68, 26, 74]\n",
        "\n",
        "for num in lst:\n",
        "\tprint(num)\n",
        "\tif num%9 == 0:break"
      ]
    },
    {
      "cell_type": "markdown",
      "metadata": {
        "id": "7Dk14EbSWbuK"
      },
      "source": [
        "### pass"
      ]
    },
    {
      "cell_type": "code",
      "execution_count": null,
      "metadata": {
        "id": "Zd5XKr2aWdbw"
      },
      "outputs": [],
      "source": [
        "#Write a loop from 1 to 10 and use pass inside an if condition when the number is even\n",
        "\n",
        "for num in range(11):\n",
        "\tif num %2 == 0: pass\n",
        "\telse: print(num)"
      ]
    },
    {
      "cell_type": "code",
      "execution_count": null,
      "metadata": {
        "id": "_GBa3W49YzSu"
      },
      "outputs": [],
      "source": [
        "#Write a for loop with an empty if condition using pass\n",
        "\n",
        "for num in range(11):\n",
        "\tif True: pass\n",
        "\telse: print(num)"
      ]
    }
  ],
  "metadata": {
    "colab": {
      "collapsed_sections": [
        "29stkxpz6gfc",
        "wdsQeA_hmr6s",
        "EsokXWZrXtB1",
        "jm--32n8fAAg",
        "A7T5EekhtBCW",
        "LgCUcDydJZzh",
        "0DiI-hn3TtqU",
        "7Dk14EbSWbuK"
      ],
      "private_outputs": true,
      "provenance": []
    },
    "kernelspec": {
      "display_name": "Python 3",
      "name": "python3"
    },
    "language_info": {
      "codemirror_mode": {
        "name": "ipython",
        "version": 3
      },
      "file_extension": ".py",
      "mimetype": "text/x-python",
      "name": "python",
      "nbconvert_exporter": "python",
      "pygments_lexer": "ipython3",
      "version": "3.13.1"
    }
  },
  "nbformat": 4,
  "nbformat_minor": 0
}
