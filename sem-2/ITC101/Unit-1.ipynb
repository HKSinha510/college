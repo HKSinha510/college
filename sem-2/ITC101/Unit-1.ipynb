{
 "cells": [
  {
   "cell_type": "markdown",
   "metadata": {},
   "source": [
    "> Hardik Kumar Sinha <br>\n",
    "> 34944 <br>\n",
    "> 27 feb 2025 <br>\n",
    "\n",
    "# DataTypes\n",
    "1. Numeric\n",
    "    - Integer\n",
    "    - Float\n",
    "    - Complex\n",
    "\n",
    "2. Dictionary\n",
    "3. Set\n",
    "4. Bool\n",
    "5. Sequence\n",
    "    - List\n",
    "    - Tuple\n",
    "    - String"
   ]
  },
  {
   "cell_type": "code",
   "execution_count": null,
   "metadata": {},
   "outputs": [],
   "source": [
    "\"\"\"\n",
    "DataType \n",
    "~\n",
    "Numeric\n",
    "\"\"\"\n",
    "# Integer\n",
    "a = 10\n",
    "b = -15\n",
    "c = 0\n",
    "print(type(a))\n",
    "print(type(b))\n",
    "print(type(c))\n",
    "print()\n",
    "\n",
    "# Float\n",
    "x = 3.14\n",
    "y = -3.14\n",
    "z = 1.5e3\n",
    "print(type(x))\n",
    "print(type(y))\n",
    "print(type(z))\n",
    "print()\n",
    "\n",
    "# Complex\n",
    "p = 2 + 3j\n",
    "q = 5 + 7j\n",
    "print(type(p))\n",
    "print(type(q))\n",
    "\n",
    "print(a.real)\n",
    "print(b.imag)"
   ]
  },
  {
   "cell_type": "code",
   "execution_count": null,
   "metadata": {},
   "outputs": [],
   "source": [
    "\"\"\"\n",
    "DataType \n",
    "~\n",
    "Dictionary\n",
    "\"\"\"\n",
    "a = {\"name\": \"hardik\", \"age\": 17, \"class\": \"AIADS\"}\n",
    "print(a)\n",
    "print(type(a))\n",
    "print(a[\"age\"])\n",
    "# print(a[0]) # gives error"
   ]
  },
  {
   "cell_type": "code",
   "execution_count": null,
   "metadata": {},
   "outputs": [],
   "source": [
    "\"\"\"\n",
    "DataType \n",
    "~\n",
    "Boolean\n",
    "\"\"\"\n",
    "a = True\n",
    "b = False\n",
    "\n",
    "print(type(a))\n",
    "print(type(b))"
   ]
  },
  {
   "cell_type": "code",
   "execution_count": null,
   "metadata": {},
   "outputs": [],
   "source": [
    "\"\"\"\n",
    "DataType \n",
    "~\n",
    "Set\n",
    "\"\"\"\n",
    "a = {\"hardik\", 17, \"AIADS\"}\n",
    "print(a)\n",
    "print(type(a))"
   ]
  },
  {
   "cell_type": "code",
   "execution_count": null,
   "metadata": {},
   "outputs": [],
   "source": [
    "\"\"\"\n",
    "DataType \n",
    "~\n",
    "Sequence\n",
    "\"\"\"\n",
    "# String(str)\n",
    "c = \"Hellow\"\n",
    "print(c)\n",
    "print(type(c))\n",
    "\n",
    "c = \"\"\"Hello\"\"\"\n",
    "print(c)\n",
    "print(type(c))\n",
    "print()\n",
    "\n",
    "# List\n",
    "c = [2, 3, 4, \"abc\"]\n",
    "print(c)\n",
    "print(type(c))\n",
    "print()\n",
    "\n",
    "d = (\"name\", 3, 4, \"abc\")\n",
    "print(d)\n",
    "print(type(d))"
   ]
  },
  {
   "cell_type": "markdown",
   "metadata": {},
   "source": [
    "# Markdown\n",
    "1. Implicit\n",
    "2. Explicit"
   ]
  },
  {
   "cell_type": "code",
   "execution_count": null,
   "metadata": {},
   "outputs": [],
   "source": [
    "\"\"\"\n",
    "Markdown \n",
    "~\n",
    "Implicit\n",
    "\"\"\"\n",
    "\n",
    "a = 5\n",
    "b = 2.5\n",
    "print(a+b)\n",
    "#automatically convert a to float, and gives output in float"
   ]
  },
  {
   "cell_type": "code",
   "execution_count": null,
   "metadata": {},
   "outputs": [],
   "source": [
    "\"\"\"\n",
    "Markdown \n",
    "~\n",
    "Explicit - 1\n",
    "\"\"\"\n",
    "\n",
    "#int\n",
    "a = 5\n",
    "print(a)\n",
    "print(str(a))\n",
    "print(float(a))\n",
    "print(complex(a))\n",
    "#print(tuple(a))        int object is not iterable. quick fix e = (a,). print(type(tuple)) => <class 'tuple'>\n",
    "#print(list(a))                                     quick fix e = [a]. print(type(tuple)) => <class 'tuple'>\n",
    "#print(set(a))                                      quick fix e = {a}. print(type(tuple)) => <class 'tuple'>\n",
    "#print(dict(a))         requires key value pair\n",
    "print()\n",
    "\n",
    "#str\n",
    "a = \"twenty\"\n",
    "print(a)\n",
    "#print(int(a))\n",
    "print(int(\"432\"))\n",
    "#print(float(a))\n",
    "print(float(\"432.432\"))\n",
    "#print(complex(a))\n",
    "print(complex(\"4+3j\"))\n",
    "print(tuple(a))        \n",
    "print(list(a))         \n",
    "print(set(a))          \n",
    "#print(dict(a))         requires key value pair\n",
    "print()\n",
    "\n",
    "#complex\n",
    "a = 1 + 3j\n",
    "print(a)\n",
    "#print(int(a))\n",
    "#print(float(a))\n",
    "print(str(a))\n",
    "#print(tuple(a))        \n",
    "#print(list(a))         \n",
    "#print(set(a))          \n",
    "#print(dict(a))        \n",
    "print()\n",
    "\n",
    "#tuple\n",
    "a = (1, 2, \"abc\")\n",
    "print(a)\n",
    "#print(int(a))\n",
    "#print(float(a))\n",
    "print(str(a))\n",
    "#print(complex(a))        \n",
    "print(list(a))         \n",
    "print(set(a))          \n",
    "#print(dict(a))        \n",
    "print()"
   ]
  },
  {
   "cell_type": "code",
   "execution_count": null,
   "metadata": {},
   "outputs": [],
   "source": [
    "\"\"\"\n",
    "Markdown \n",
    "~\n",
    "Explicit - 2\n",
    "\"\"\"\n",
    "\n",
    "#list\n",
    "a = [1, 2, \"abc\"]\n",
    "print(a)\n",
    "#print(int(a))          doesn't even work with [4]\n",
    "#print(float(a))\n",
    "print(str(a))\n",
    "#print(complex(a))        \n",
    "print(tuple(a))         \n",
    "print(set(a))          \n",
    "#print(dict(a))        \n",
    "print()\n",
    "\n",
    "#set\n",
    "a = {1, 2, \"abc\"}\n",
    "print(a)\n",
    "#print(int(a))\n",
    "#print(float(a))\n",
    "print(str(a))\n",
    "#print(complex(a))        \n",
    "print(list(a))         \n",
    "print(tuple(a))          \n",
    "#print(dict(a))        \n",
    "print()\n",
    "\n",
    "#dict\n",
    "a = {\"num\": 101, \"name\": \"ITC\"}\n",
    "print(a)\n",
    "#print(int(a))\n",
    "#print(float(a))\n",
    "print(str(a))\n",
    "#print(complex(a))        \n",
    "print(list(a))         \n",
    "print(set(a))          \n",
    "print(tuple(a))        \n",
    "print()"
   ]
  },
  {
   "cell_type": "markdown",
   "metadata": {},
   "source": [
    "# Mutable & Immutable Variable\n",
    "1. Mutable Variables\n",
    "2. Immutable Variable"
   ]
  },
  {
   "cell_type": "code",
   "execution_count": 18,
   "metadata": {},
   "outputs": [
    {
     "name": "stdout",
     "output_type": "stream",
     "text": [
      "[1, 2, 3]\n",
      "2639042545856\n",
      "\n",
      "[1, 2, 3, 4]\n",
      "2639042545856\n"
     ]
    }
   ],
   "source": [
    "\"\"\"\n",
    "Mutable & Immutable Variable \n",
    "~\n",
    "Mutable Variable\n",
    "\"\"\"\n",
    "a = [1,2,3]\n",
    "print(a)\n",
    "print(id(a))\n",
    "print()\n",
    "\n",
    "a.append(4)\n",
    "print(a)\n",
    "print(id(a))"
   ]
  },
  {
   "cell_type": "code",
   "execution_count": 19,
   "metadata": {},
   "outputs": [
    {
     "name": "stdout",
     "output_type": "stream",
     "text": [
      "ITC\n",
      "2639042562976\n",
      "\n",
      "ITC101\n",
      "2639038393168\n"
     ]
    }
   ],
   "source": [
    "\"\"\"\n",
    "Mutable & Immutable Variable \n",
    "~\n",
    "Immutable Variable\n",
    "\"\"\"\n",
    "a = \"ITC\"\n",
    "print(a)\n",
    "print(id(a))\n",
    "print()\n",
    "\n",
    "a = a + \"101\"\n",
    "print(a)\n",
    "print(id(a))"
   ]
  },
  {
   "cell_type": "markdown",
   "metadata": {},
   "source": [
    "# Python Operator\n",
    "1. Arithmetic Operator  \n",
    "    - \\+\n",
    "    - \\-\n",
    "    - \\/\n",
    "    - %\n",
    "    - //\n",
    "    - \\*\n",
    "    - **\n",
    "\n",
    "2. Assignment Operator\n",
    "    - =\n",
    "    - +=\n",
    "    - -=\n",
    "    - *=\n",
    "    - /=\n",
    "\n",
    "3. Comparision Operator\n",
    "    - ==\n",
    "    - !=\n",
    "    - \\>\n",
    "    - <\n",
    "    - \\>=\n",
    "    - <=\n",
    "\n",
    "4. Logical Operator\n",
    "    - and\n",
    "    - or\n",
    "    - not\n",
    "\n",
    "5. Identity Operator\n",
    "    - is\n",
    "    - is not\n",
    "    \n",
    "6. Membership Operator\n",
    "    - in\n",
    "    - not in\n",
    "\n",
    "7. Bitwise Operator\n",
    "    - &\n",
    "    - |\n",
    "    - ~\n",
    "    - ^\n",
    "    - <<\n",
    "    - \\>>\n"
   ]
  },
  {
   "cell_type": "code",
   "execution_count": null,
   "metadata": {},
   "outputs": [],
   "source": [
    "\"\"\"\n",
    "Operators\n",
    "~\n",
    "Arithmetic Operator\n",
    "\"\"\"\n",
    "\n",
    "a = 4\n",
    "b = 3\n",
    "print(a + b)\n",
    "print(a - b)\n",
    "print(a * b)\n",
    "print(a / b)\n",
    "print(a // b)\n",
    "print(a % b)\n",
    "print(a ** b)"
   ]
  },
  {
   "cell_type": "code",
   "execution_count": null,
   "metadata": {},
   "outputs": [],
   "source": [
    "\"\"\"\n",
    "Operators\n",
    "~\n",
    "Assignment Operator\n",
    "\"\"\"\n",
    "a = 5\n",
    "print(a)\n",
    "\n",
    "a += 5\n",
    "print(a)\n",
    "\n",
    "a -= 4\n",
    "print(a)\n",
    "\n",
    "a *= 2\n",
    "print(a)\n",
    "\n",
    "a /= 7\n",
    "print(a)"
   ]
  },
  {
   "cell_type": "code",
   "execution_count": null,
   "metadata": {},
   "outputs": [],
   "source": [
    "\"\"\"\n",
    "Operators\n",
    "~\n",
    "Comparision Operator\n",
    "\"\"\"\n",
    "\n",
    "a = 4\n",
    "b = 6\n",
    "\n",
    "print(a == b)\n",
    "print(a != b)\n",
    "print(a > b)\n",
    "print(a < b)\n",
    "print(a >= b)\n",
    "print(a <= b)"
   ]
  },
  {
   "cell_type": "code",
   "execution_count": null,
   "metadata": {},
   "outputs": [],
   "source": [
    "\"\"\"\n",
    "Operators\n",
    "~\n",
    "Logical Operator\n",
    "\"\"\"\n",
    "\n",
    "a = True\n",
    "b = False\n",
    "\n",
    "print(a and b)\n",
    "print(a or b)\n",
    "print(not a)\n"
   ]
  },
  {
   "cell_type": "code",
   "execution_count": null,
   "metadata": {},
   "outputs": [],
   "source": [
    "\"\"\"\n",
    "Operators\n",
    "~\n",
    "Identity Operator\n",
    "\"\"\"\n",
    "\n",
    "a = [1,2,3,4]\n",
    "z = a\n",
    "print(a is z)\n",
    "\n",
    "b = [1, 2, 3, 4]\n",
    "print(a is b)\n",
    "print(a is not b)\n",
    "\n"
   ]
  },
  {
   "cell_type": "code",
   "execution_count": null,
   "metadata": {},
   "outputs": [],
   "source": [
    "\"\"\"\n",
    "Operators\n",
    "~\n",
    "Membership Operator\n",
    "\"\"\"\n",
    "\n",
    "print(\"a\" in \"apple\")\n",
    "print(\"a\" in \"banana\")\n",
    "print(\"b\" in \"car\")\n"
   ]
  },
  {
   "cell_type": "code",
   "execution_count": null,
   "metadata": {},
   "outputs": [],
   "source": [
    "\"\"\"\n",
    "Operators\n",
    "~\n",
    "Bitwise Operator\n",
    "\"\"\"\n",
    "\n",
    "a = 5   #101\n",
    "b = 3   #011\n",
    "\n",
    "print(a & b)\n",
    "print(a | b)\n",
    "print(~a)\n",
    "print(a ^ b)\n",
    "print(a << 1)\n",
    "print(b >> 1)"
   ]
  },
  {
   "cell_type": "markdown",
   "metadata": {},
   "source": [
    "# Exercise\n",
    "## 1. Evaluate \n",
    "    (x < y) or (not (z == y) and (z < x))"
   ]
  },
  {
   "cell_type": "markdown",
   "metadata": {},
   "source": [
    "### a) x = 0, y = 6, z = 10"
   ]
  },
  {
   "cell_type": "code",
   "execution_count": 21,
   "metadata": {},
   "outputs": [
    {
     "name": "stdout",
     "output_type": "stream",
     "text": [
      "True\n"
     ]
    }
   ],
   "source": [
    "\"\"\"\n",
    "1.a\n",
    "\"\"\"\n",
    "x = 0\n",
    "y = 6\n",
    "z = 10\n",
    "sol = (x < y) or (not (z == y) and (z < x))\n",
    "print(sol)"
   ]
  },
  {
   "cell_type": "markdown",
   "metadata": {},
   "source": [
    "### b) x = 1, y = 1, z = 1"
   ]
  },
  {
   "cell_type": "code",
   "execution_count": 22,
   "metadata": {},
   "outputs": [
    {
     "name": "stdout",
     "output_type": "stream",
     "text": [
      "False\n"
     ]
    }
   ],
   "source": [
    "\"\"\"\n",
    "1.b\n",
    "\"\"\"\n",
    "x = 1\n",
    "y = 1\n",
    "z = 1\n",
    "sol = (x < y) or (not (z == y) and (z < x))\n",
    "print(sol)"
   ]
  },
  {
   "cell_type": "markdown",
   "metadata": {},
   "source": [
    "## 2. Evaluate the expressions\n"
   ]
  },
  {
   "cell_type": "code",
   "execution_count": 24,
   "metadata": {},
   "outputs": [
    {
     "name": "stdout",
     "output_type": "stream",
     "text": [
      "-85.0\n",
      "2\n",
      "14.6\n",
      "-25\n",
      "\n"
     ]
    }
   ],
   "source": [
    "\"\"\"\n",
    "2\n",
    "\"\"\"\n",
    "# a\n",
    "print(-7 * 20 + 8 / 16 * 2 + 54)\n",
    "\n",
    "# b\n",
    "print(7 ** 2 //9 % 3)\n",
    "\n",
    "# c\n",
    "print((7 - 4 * 2) * 10 / 5 ** 2 + 15)\n",
    "\n",
    "# d\n",
    "print(5 % 10 +10 -25 * 8 // 5)\n",
    "\n",
    "# e\n",
    "print('hello' * (2 - 5))"
   ]
  },
  {
   "cell_type": "markdown",
   "metadata": {},
   "source": [
    "## 3. Evaluate the relation and logical operator"
   ]
  },
  {
   "cell_type": "code",
   "execution_count": 28,
   "metadata": {},
   "outputs": [
    {
     "name": "stdout",
     "output_type": "stream",
     "text": [
      "False\n",
      "True\n",
      "False\n",
      "False\n",
      "True\n"
     ]
    }
   ],
   "source": [
    "\"\"\"\n",
    "3\n",
    "\"\"\"\n",
    "\n",
    "# a\n",
    "print(\"hi\" > \"hello\" and \"bye\" < \"Bye\")\n",
    "\n",
    "# b\n",
    "print(\"hi\" > \"hello\" or \"bye\" < \"Bye\")\n",
    "\n",
    "#c \n",
    "print(7 > 8 or 5 < 6 and 'I am fine' > 'I am not fine')\n",
    "\n",
    "# d\n",
    "print(10 != 0 and 20 >= 29)\n",
    "\n",
    "# e\n",
    "print(10 != 9 and 29 >= 29 and 'hi' > 'hello' or 'bye' < 'Bye' and 7 <= 2.5)"
   ]
  },
  {
   "cell_type": "markdown",
   "metadata": {},
   "source": [
    "## 4. Evaluate the expression"
   ]
  },
  {
   "cell_type": "code",
   "execution_count": 32,
   "metadata": {},
   "outputs": [
    {
     "name": "stdout",
     "output_type": "stream",
     "text": [
      "True\n",
      "False\n",
      "False\n",
      "True\n",
      "False\n",
      "True\n",
      "True\n"
     ]
    }
   ],
   "source": [
    "\"\"\"\n",
    "4\n",
    "\"\"\"\n",
    "\n",
    "# a\n",
    "print(5 % 10 + 10 < 50 and 29 >= 29)\n",
    "\n",
    "# b\n",
    "print(7 ** 2 <= 5 // 9 % 3 or 'bye' < 'Bye')\n",
    "\n",
    "# c\n",
    "print(5 % 10 < 10 and -25 > 1 * 8 // 5)\n",
    "\n",
    "# d\n",
    "print(7 ** 2 // 4 + 5 > 8 or 5 != 6)\n",
    "\n",
    "#e\n",
    "print(7 / 4 < 6 and 'I am fine' > 'I am not fine')\n",
    "\n",
    "# f\n",
    "print(10 + 6 * 2 ** 2 != 9 // 4 - 3 and 29 >= 29 /9)\n",
    "\n",
    "# g\n",
    "print('hello' * 5 > 'hello' or 'bye' < 'Bye')\n",
    "\n"
   ]
  },
  {
   "cell_type": "markdown",
   "metadata": {},
   "source": [
    "## 5. Evaluate the following bitwise operator"
   ]
  },
  {
   "cell_type": "code",
   "execution_count": 33,
   "metadata": {},
   "outputs": [
    {
     "name": "stdout",
     "output_type": "stream",
     "text": [
      "6\n",
      "31\n",
      "16\n",
      "-9\n",
      "-16\n",
      "-23\n",
      "19\n",
      "25\n"
     ]
    }
   ],
   "source": [
    "\"\"\"\n",
    "5\n",
    "\"\"\"\n",
    "\n",
    "# a\n",
    "print(15 & 22)\n",
    "\n",
    "# b\n",
    "print(15 | 22)\n",
    "\n",
    "# c\n",
    "print(-15 & 22)\n",
    "\n",
    "# d\n",
    "print(-15 | 22)\n",
    "\n",
    "# e\n",
    "print(~15)\n",
    "\n",
    "# f\n",
    "print(~22)\n",
    "\n",
    "# g\n",
    "print(~-20)\n",
    "\n",
    "# h\n",
    "print(15 ^ 22)"
   ]
  }
 ],
 "metadata": {
  "kernelspec": {
   "display_name": "Python 3",
   "language": "python",
   "name": "python3"
  },
  "language_info": {
   "codemirror_mode": {
    "name": "ipython",
    "version": 3
   },
   "file_extension": ".py",
   "mimetype": "text/x-python",
   "name": "python",
   "nbconvert_exporter": "python",
   "pygments_lexer": "ipython3",
   "version": "3.13.1"
  }
 },
 "nbformat": 4,
 "nbformat_minor": 2
}
