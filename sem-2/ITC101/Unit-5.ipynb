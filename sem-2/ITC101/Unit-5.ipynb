{
  "cells": [
    {
      "cell_type": "markdown",
      "metadata": {
        "id": "bogBR9T75KPW"
      },
      "source": [
        "> Hardik Kumar Sinha\n",
        "\n",
        "# Unit - 5\n",
        "\n",
        "## OOPS\n",
        "1. class - Blueprint of creating and using object\n",
        "2. object - An instance of class. Contains it separate set of instance values and use class values and methods"
      ]
    },
    {
      "cell_type": "code",
      "execution_count": null,
      "metadata": {
        "id": "IooTsdv_bJDx"
      },
      "outputs": [],
      "source": [
        "class Car:\n",
        "\tdef __init__(self, brand, color):\n",
        "\t\tself.brand = brand\n",
        "\t\tself.color = color\n",
        "\n",
        "\tdef start_engine(self):\n",
        "\t\tprint(f\"{self.color} {self.brand} engine started.\")\n",
        "\n",
        "\n",
        "#Creating object\n",
        "car1 = Car(\"Toyota\", \"Red\")\n",
        "car2 = Car(\"BMW\", \"BlaCK\")\n",
        "\n",
        "#accessing method and attributes\n",
        "car1.start_engine()     #Red Toyota engine started.\n",
        "car2.start_engine()     #Black BMW engine started."
      ]
    },
    {
      "cell_type": "markdown",
      "metadata": {},
      "source": [
        "### Inheritance"
      ]
    },
    {
      "cell_type": "code",
      "execution_count": null,
      "metadata": {
        "id": "LMwkKU4g6C1s"
      },
      "outputs": [],
      "source": [
        "\"\"\"\n",
        "Single inheritance\n",
        "\"\"\"\n",
        "class Animal:       \t\t#Parent\n",
        "\tdef speak(self):\n",
        "\t\tprint(\"Animal speaks\")\n",
        "\n",
        "class Dog(Animal):  \t\t#child\n",
        "\tdef bark(self):\n",
        "\t\tprint(\"Dog barks\")\n",
        "\n",
        "\n",
        "d = Dog()\n",
        "d.speak()\n",
        "d.bark()"
      ]
    },
    {
      "cell_type": "code",
      "execution_count": null,
      "metadata": {
        "id": "aOXscz8unGed"
      },
      "outputs": [],
      "source": [
        "\"\"\"\n",
        "Multiple Inheritance\n",
        "\"\"\"\n",
        "\n",
        "class Father:\n",
        "\tpass    #Parent class 1\n",
        "\n",
        "class Mother:\n",
        "\tpass    #Parent class 2\n",
        "\n",
        "class Child(Mother, Father):\n",
        "\tpass    ##Child class inheriting from Mother Class and Father Class\n",
        "\n",
        "\"\"\"\n",
        "If both parent classes have a method with the same name but different implementations,\n",
        "and a child class inherits from both\n",
        "then method resolution order (MRO) - which parent class name is is first as argument -\n",
        "decides which method is called when invoked from the child\n",
        "\n",
        "use print(<class name>.__mro__) to see MRO for specific child class\n",
        "\"\"\""
      ]
    },
    {
      "cell_type": "code",
      "execution_count": null,
      "metadata": {
        "id": "ugP4RmlunMqe"
      },
      "outputs": [],
      "source": [
        "\"\"\"\n",
        "Multi-level Inheritance\n",
        "\"\"\"\n",
        "\n",
        "class Grandparent:\t\t\t\t\t\t#Inherit nothing\n",
        "\tpass    #Parent class at level 0\n",
        "\n",
        "class Parent(Grandparent):\t\t\t\t#Inherit from Grandparent class\n",
        "\tpass    #Parent class at level 1\n",
        "\n",
        "class child(Parent):\t\t\t\t\t#Inherit from Parent class which inherit from Grandparent class\n",
        "\tpass    #Parent class at level 2\n"
      ]
    },
    {
      "cell_type": "code",
      "execution_count": null,
      "metadata": {
        "id": "B190lA4Y-SmF"
      },
      "outputs": [],
      "source": [
        "\"\"\"\n",
        "Hierarchical Inheritance\n",
        "\"\"\"\n",
        "\n",
        "class Parent:\n",
        "\tpass    #Parent class\n",
        "\n",
        "class Child_1(Parent):\n",
        "\tpass    #Child Class 1 inheriting from same Parent class\n",
        "\n",
        "class Child_2(Parent):\n",
        "\tpass    #Child Class 1 inheriting from same Parent class"
      ]
    },
    {
      "cell_type": "markdown",
      "metadata": {},
      "source": [
        "### Overriding"
      ]
    },
    {
      "cell_type": "code",
      "execution_count": null,
      "metadata": {
        "id": "49UwEPAdk9Ue"
      },
      "outputs": [],
      "source": [
        "class Animal:       #Parent\n",
        "\tdef speak(self):\n",
        "\t\tprint(\"Animal speaks\")\n",
        "\n",
        "class Dog(Animal):  #child\n",
        "\tdef speak(self):  #override\n",
        "\t\tprint(\"Dog barks\")\n",
        "\n",
        "class Cow(Animal):        #simple inheritance\n",
        "\tpass\n",
        "\n",
        "#Create object\n",
        "d = Dog()\n",
        "d.speak()\n",
        "c = Cow()\n",
        "c.speak()"
      ]
    },
    {
      "cell_type": "markdown",
      "metadata": {},
      "source": [
        "### Overloading\n",
        "1. Operator overloading\n",
        "2. Method overloading"
      ]
    },
    {
      "cell_type": "code",
      "execution_count": null,
      "metadata": {
        "id": "lbR-33q6AZSf"
      },
      "outputs": [],
      "source": [
        "\"\"\"\n",
        "Operator Overloading\n",
        "\"\"\"\n",
        "\n",
        "class Point:\n",
        "\tdef __init__(self, x, y):\n",
        "\t\tself.x = x\n",
        "\t\tself.y = y\n",
        "\n",
        "\tdef __add__(self, other):\n",
        "\t\treturn Point(self.x + other.x, self.y + other.y)\n",
        "\n",
        "\tdef __mul__(self, scalar):\n",
        "\t\treturn Point(self.x * scalar, self.y * scalar)\n",
        "\n",
        "\tdef __str__(self):\n",
        "\t\treturn f\"({self.x}, {self.y})\"\n",
        "\n",
        "p1 = Point(2, 3)\n",
        "p2 = Point(4, 5)\n",
        "\n",
        "print(p1 + p2)     # (6, 8)\n",
        "print(p1 * 3)      # (6, 9)\n"
      ]
    },
    {
      "cell_type": "markdown",
      "metadata": {
        "id": "KifFh6wDAkpo"
      },
      "source": [
        "#Data Hiding"
      ]
    },
    {
      "cell_type": "code",
      "execution_count": null,
      "metadata": {
        "id": "Aji7pnHsAmpw"
      },
      "outputs": [],
      "source": [
        "class BankAccount:\n",
        "\tdef __init__(self, balance):\n",
        "\t\tself.__balance = balance    #private variable\n",
        "\n",
        "\tdef show_balance(self):\n",
        "\t\tprint(\"Your balance is:\", self.__balance)\n",
        "\n",
        "#Test\n",
        "acc = BankAccount(1000)\n",
        "acc.show_balance()      #Show output\n",
        "\n",
        "try:\n",
        "\tprint(acc.__balance)    #Not show because private variable\n",
        "except Exception as e:\n",
        "\tprint(f\"Causing error: {e}\")"
      ]
    },
    {
      "cell_type": "markdown",
      "metadata": {
        "id": "U_dAgHua2rsa"
      },
      "source": [
        "### Error Handling\n",
        "try.....except.....else.....finally loop"
      ]
    },
    {
      "cell_type": "code",
      "execution_count": null,
      "metadata": {
        "id": "6tD2Vd9a2vh7"
      },
      "outputs": [],
      "source": [
        "try:\n",
        "\tnum = float(input(\"Enter a number: \"))\n",
        "\tresult = 10 / num\n",
        "\n",
        "except ZeroDivisionError:        #if num == 0\n",
        "\tprint(\"Cannot divide by zero!\")\n",
        "\n",
        "except ValueError:               \n",
        "\tprint(\"Invalid input, please enter a number.\")\n",
        "\n",
        "#since no else, the code will run only try statement\n",
        "print(\"-\" * 30)"
      ]
    },
    {
      "cell_type": "code",
      "execution_count": null,
      "metadata": {
        "id": "Ed58TwTBGbP-"
      },
      "outputs": [],
      "source": [
        "try:\n",
        "\tnum = int(input(\"Enter another number: \"))\n",
        "\tresult = 10 / num\n",
        "except ZeroDivisionError:\n",
        "\tprint(\"Cannot divide by zero!\")\n",
        "except ValueError:\n",
        "\tprint(\"Invalid input.\")\n",
        "else:\n",
        "\tprint(\"Result is:\", result)\n",
        "print(\"-\" * 30)"
      ]
    },
    {
      "cell_type": "code",
      "execution_count": null,
      "metadata": {
        "id": "aaN09bsUDxn0"
      },
      "outputs": [],
      "source": [
        "try:\n",
        "\tnum = int(input(\"Enter one more number: \"))\n",
        "\tresult = 10 / num\n",
        "except ZeroDivisionError:\n",
        "\tprint(\"Cannot divide by zero!\")\n",
        "finally:\n",
        "\tprint(\"This will run no matter what.\")\n",
        "\t# print(result/0)   - if there is error code in finaaly, it will raise error\n",
        "print(\"-\" * 30)"
      ]
    }
  ],
  "metadata": {
    "colab": {
      "private_outputs": true,
      "provenance": []
    },
    "kernelspec": {
      "display_name": "Python 3",
      "name": "python3"
    },
    "language_info": {
      "codemirror_mode": {
        "name": "ipython",
        "version": 3
      },
      "file_extension": ".py",
      "mimetype": "text/x-python",
      "name": "python",
      "nbconvert_exporter": "python",
      "pygments_lexer": "ipython3",
      "version": "3.13.1"
    }
  },
  "nbformat": 4,
  "nbformat_minor": 0
}
