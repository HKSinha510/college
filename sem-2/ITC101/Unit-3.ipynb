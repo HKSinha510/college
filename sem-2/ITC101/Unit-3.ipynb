{
 "cells": [
  {
   "cell_type": "markdown",
   "metadata": {},
   "source": [
    "> HKSinha \n",
    "\n",
    "# Unit 3\n",
    "\n",
    "## String\n",
    "\n",
    "- length of string\n",
    "- Indexing\n",
    "- String Slicing\n",
    "- String Operator\n",
    "    - Concatenation\n",
    "    - Repetation\n",
    "- String build-in function\n"
   ]
  },
  {
   "cell_type": "code",
   "execution_count": null,
   "metadata": {},
   "outputs": [],
   "source": [
    "\"\"\"\n",
    "String\n",
    "~\n",
    "Length of string\n",
    "\"\"\"\n",
    "\n",
    "a = \"SATI Vidisha\"\n",
    "print(len(a))\n"
   ]
  },
  {
   "cell_type": "code",
   "execution_count": null,
   "metadata": {},
   "outputs": [],
   "source": [
    "\"\"\"\n",
    "String\n",
    "~\n",
    "Indexing\n",
    "\"\"\"\n",
    "a = \"programming\"\n",
    "\n",
    "print(a[0])\n",
    "print(a[6])\n",
    "print(a[-2])\n",
    "print(a[-6])"
   ]
  },
  {
   "cell_type": "code",
   "execution_count": null,
   "metadata": {},
   "outputs": [],
   "source": [
    "\"\"\"\n",
    "String\n",
    "~\n",
    "Slicing\n",
    "\"\"\"\n",
    "a = \"programming\"\n",
    "\n",
    "print(a[0:3])\n",
    "print(a[5:])\n",
    "print(a[:6])\n",
    "print(a[::2])\n",
    "print(a[7:])\n",
    "\n",
    "print(a[:-6])\n",
    "print(a[-6:-1])\n",
    "\n",
    "print(a[::-1])\n",
    "print(a[6:2:-1])\n",
    "print(a[-1:-6:-1])\n"
   ]
  },
  {
   "cell_type": "code",
   "execution_count": null,
   "metadata": {},
   "outputs": [],
   "source": [
    "\"\"\"\n",
    "String\n",
    "~\n",
    "String Operator\n",
    "\"\"\"\n",
    "\n",
    "a = \"sati\"\n",
    "b = \"vidisha\"\n",
    "\n",
    "#concatenation\n",
    "print(a+b)\n",
    "print(a + \" \" + b)\n",
    "\n",
    "#repetation\n",
    "print(a*3)\n",
    "print(b*2)"
   ]
  },
  {
   "cell_type": "code",
   "execution_count": null,
   "metadata": {},
   "outputs": [],
   "source": [
    "\"\"\"\n",
    "String\n",
    "~\n",
    "String build-in function\n",
    "\"\"\"\n",
    "\n",
    "a = \"sati vidisha\"\n",
    "b = \"ITC101\"\n",
    "\n",
    "print(a.upper())\n",
    "print(b.title())\n",
    "print(b.lower())\n",
    "print(a.capitalize())\n",
    "\n",
    "#validation function\n",
    "print(a.islower())\n",
    "print(a.isupper())\n",
    "print(a.istitle())\n",
    "print(b.isalnum())\n",
    "print(a.isalpha())\n",
    "print(a.isnumeric())"
   ]
  },
  {
   "cell_type": "markdown",
   "metadata": {},
   "source": [
    "## String and Number\n",
    "\n",
    "### Conversion of String of number"
   ]
  },
  {
   "cell_type": "code",
   "execution_count": null,
   "metadata": {},
   "outputs": [],
   "source": [
    "num_str = '100'\n",
    "\n",
    "num = int(num_str)\n",
    "fnum = float(num_str)\n",
    "print(num)\n",
    "print(fnum)\n",
    "\n",
    "print(num + fnum)\n",
    "print(num * 4 + fnum / 0.3)"
   ]
  },
  {
   "cell_type": "markdown",
   "metadata": {},
   "source": [
    "### Converstion of Integer to String"
   ]
  },
  {
   "cell_type": "code",
   "execution_count": null,
   "metadata": {},
   "outputs": [],
   "source": [
    "a = str(num)\n",
    "b = str(fnum)\n",
    "\n",
    "print(a + b)\n",
    "print(type(a))"
   ]
  },
  {
   "cell_type": "markdown",
   "metadata": {},
   "source": [
    "## Number System in Python\n",
    "\n",
    "| Number System | Symbols   | Representation |\n",
    "|---------------|-----------|----------------|\n",
    "| Decimal       | 0 - 9     |                |\n",
    "| Hexadecimal   | 0-9 , A-F | 0x or 0X       |\n",
    "| Octal         | 0 - 7     | 0o or 0O       |\n",
    "| Binary        | 0, 1      | 0b or 0B       |"
   ]
  },
  {
   "cell_type": "markdown",
   "metadata": {},
   "source": [
    "### Conversion of decimal to other numbe system\n",
    "\n",
    "| Function | Description            |\n",
    "|----------|------------------------|\n",
    "| bin(n)   | Convert to binary      |\n",
    "| oct(n)   | Convert to Octal       |\n",
    "| hex(n)   | Convert to Hexadecimal |"
   ]
  },
  {
   "cell_type": "code",
   "execution_count": null,
   "metadata": {},
   "outputs": [],
   "source": [
    "n = 824\n",
    "\n",
    "print(bin(n))\n",
    "print(oct(n))\n",
    "print(hex(n))"
   ]
  },
  {
   "cell_type": "markdown",
   "metadata": {},
   "source": [
    "### Conversion of Binary, Octal or Hexadecimal to Decimal"
   ]
  },
  {
   "cell_type": "code",
   "execution_count": null,
   "metadata": {},
   "outputs": [],
   "source": [
    "binary = \"110101011\"\n",
    "octal = \"5417\"\n",
    "hexa = \"A6F9\"\n",
    "\n",
    "print(int(binary, 2))            # binary to decimal\n",
    "print(int(octal, 8))             # octal to decimal\n",
    "print(int(hexa, 16))             # hexadecimal to decimal"
   ]
  },
  {
   "cell_type": "markdown",
   "metadata": {},
   "source": [
    "## Modules in python\n",
    "\n",
    "### Types of Modules\n",
    "    1. Built-In Module\n",
    "    2. User Defined Module\n",
    "    3. External Module"
   ]
  },
  {
   "cell_type": "markdown",
   "metadata": {},
   "source": [
    "### Importing Modules"
   ]
  },
  {
   "cell_type": "code",
   "execution_count": null,
   "metadata": {},
   "outputs": [],
   "source": [
    "# 1. Importing the whole module\n",
    "import math\n",
    "\n",
    "\n",
    "# 2. Importing special function\n",
    "from math import sqrt\n",
    "print(sqrt(49))\n",
    "\n",
    "\n",
    "# 3. Using aliases\n",
    "from math import sqrt as sr\n",
    "print(sr(49))\n",
    "\n",
    "\n",
    "# 4. Import everything\n",
    "from math import *\n",
    "print(sqrt(43))\n",
    "print(pow(2,3))\n"
   ]
  },
  {
   "cell_type": "markdown",
   "metadata": {},
   "source": [
    "### Using `os` module\n",
    "\n",
    "\n",
    "[output](https://i.ibb.co/VckH2G9P/image.png)"
   ]
  },
  {
   "cell_type": "code",
   "execution_count": null,
   "metadata": {},
   "outputs": [],
   "source": [
    "import os\n",
    "\n",
    "# 1. Get current working directory\n",
    "print(os.getcwd())\n",
    "\n",
    "\n",
    "# 2. Change current working directory\n",
    "os.chdir(\"../\")\n",
    "print(os.getcwd())\n",
    "\n",
    "\n",
    "# 3. list files and directories\n",
    "print(os.listdir(\".\"))\n",
    "\n",
    "\n",
    "# 4. create a new directory\n",
    "os.mkdir(\"test\")\n",
    "\n",
    "\n",
    "# 5. remove a directory\n",
    "os.rmdir(\"test\")"
   ]
  },
  {
   "cell_type": "markdown",
   "metadata": {},
   "source": [
    "### Using `sys` Module\n",
    "\n",
    "[output](https://i.ibb.co/SD2zhdnF/image.png)"
   ]
  },
  {
   "cell_type": "code",
   "execution_count": null,
   "metadata": {},
   "outputs": [],
   "source": [
    "import sys\n",
    "\n",
    "# 1. To get version of python\n",
    "print(sys.version)\n",
    "print()\n",
    "\n",
    "\n",
    "# 2. Python interpreter path\n",
    "print(sys.executable)\n",
    "print()\n",
    "\n",
    "\n",
    "# 3. Get command line arrgument\n",
    "print(sys.argv)\n",
    "print()\n",
    "\n",
    "\n",
    "# 4. Get system platform\n",
    "print(sys.platform)\n",
    "print()\n",
    "\n",
    "# 5. exit a program\n",
    "sys.exit"
   ]
  },
  {
   "cell_type": "markdown",
   "metadata": {},
   "source": [
    "## Text files in python\n",
    "\n",
    "### Opening a file\n",
    "\n",
    "#### File mode:\n",
    "| File Mode | Description                                                     |\n",
    "|-----------|-----------------------------------------------------------------|\n",
    "| 'r'       | open for reading (default)                                      |\n",
    "| 'w'       | open for writing, truncating the file first                     |\n",
    "| 'x'       | open for exclusive creation, failing if the file already exists |\n",
    "| 'a'       | open for writing, appending to the end of file if it exists     |\n",
    "| 'b'       | binary mode                                                     |\n",
    "| 't'       | text mode (default)                                             |\n",
    "| '+'       | open for updating (reading and writing)                         |"
   ]
  },
  {
   "cell_type": "code",
   "execution_count": null,
   "metadata": {},
   "outputs": [],
   "source": [
    "f = open(\"todo.txt\", \"r+\")"
   ]
  },
  {
   "cell_type": "markdown",
   "metadata": {},
   "source": [
    "### write to a file"
   ]
  },
  {
   "cell_type": "code",
   "execution_count": null,
   "metadata": {},
   "outputs": [],
   "source": [
    "# using `with`\n",
    "with open('test.txt', 'w') as f:\n",
    "    f.write(\"wassup!\")\n",
    "\n",
    "# without `with`\n",
    "f = open('test.txt', 'w')\n",
    "f.write(\"---.__.--\")\n",
    "f.close()"
   ]
  },
  {
   "cell_type": "markdown",
   "metadata": {},
   "source": [
    "### Formatted File\n",
    "\n",
    "1. CSV File\n",
    "2. JSON File\n",
    "3. XML File\n",
    "\n",
    "#### CSV File \n",
    "Comma Seperated Values is a file that stores tabular data in form of rows and column which are separted by a delimeter(generally comma)\n"
   ]
  },
  {
   "cell_type": "code",
   "execution_count": null,
   "metadata": {},
   "outputs": [],
   "source": [
    "# Writing to a csv file\n",
    "import csv \n",
    "\n",
    "with open('data.csv', 'w', newline = \"\") as f:\n",
    "    writer = csv.writer(f)\n",
    "    writer.writerow(['abc','age', 'city'])\n",
    "    writer.writerow(['cbd', 4, 'bhopal'])\n",
    "\n"
   ]
  },
  {
   "cell_type": "code",
   "execution_count": null,
   "metadata": {},
   "outputs": [],
   "source": [
    "# Reading from a csv file\n",
    "import csv\n",
    "\n",
    "with open('data.csv', 'r') as f:\n",
    "    wri = csv.reader(f)\n",
    "\n",
    "    for i in wri:\n",
    "        print(i)"
   ]
  },
  {
   "cell_type": "markdown",
   "metadata": {},
   "source": [
    "#### JSON file\n",
    "JavaScript Object Notation is a lightweight, text-based data format. It contain key: value pair.\n",
    "\n",
    "Example:\n",
    "```JSON\n",
    "{\n",
    "    \"name\": \"Aashay\",\n",
    "    \"age\": 5,\n",
    "    \"city\": \"Bhopal\",\n",
    "    \"course\": [\"C\", \"C++\", \"Python\"]\n",
    "}\n",
    "```\n"
   ]
  },
  {
   "cell_type": "code",
   "execution_count": null,
   "metadata": {},
   "outputs": [],
   "source": [
    "# Writing to a JSON file\n",
    "\n",
    "import json\n",
    "\n",
    "data = [\n",
    "    {'name': 'aashay', 'age': 5, 'city': 'bhopal'},\n",
    "    {'name': 'rahul', 'age': 15, 'city': 'vidisha'}\n",
    "]\n",
    "\n",
    "with open('data.json', 'w') as f:\n",
    "    json.dump(data, f, indent=4)\n"
   ]
  },
  {
   "cell_type": "code",
   "execution_count": null,
   "metadata": {},
   "outputs": [],
   "source": [
    "# Reading from a JSON file\n",
    "\n",
    "import json\n",
    " \n",
    "with open('data.json', 'r') as f:\n",
    "    data = json.load(f)\n",
    "    print(data)\n"
   ]
  }
 ],
 "metadata": {
  "kernelspec": {
   "display_name": "Python 3",
   "language": "python",
   "name": "python3"
  },
  "language_info": {
   "codemirror_mode": {
    "name": "ipython",
    "version": 3
   },
   "file_extension": ".py",
   "mimetype": "text/x-python",
   "name": "python",
   "nbconvert_exporter": "python",
   "pygments_lexer": "ipython3",
   "version": "3.13.1"
  }
 },
 "nbformat": 4,
 "nbformat_minor": 2
}
