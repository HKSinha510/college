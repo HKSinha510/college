{
 "cells": [
  {
   "cell_type": "markdown",
   "id": "606c69dc",
   "metadata": {},
   "source": [
    "> Hardik Kumar Sinha\n",
    "\n",
    "# Unit 4\n",
    "\n",
    "## List\n",
    "Syntax: `<var> = [ele1, ele2, ele3, ....]`\n",
    "<br>\n",
    "\n",
    "### Assessing List"
   ]
  },
  {
   "cell_type": "code",
   "execution_count": null,
   "id": "02f58114",
   "metadata": {},
   "outputs": [],
   "source": [
    "colors = ['red', 'green', 'blue']\n",
    "\n",
    "#Positive index\n",
    "print(colors[2])\n",
    "\n",
    "#Negative index\n",
    "print(colors[-3])"
   ]
  },
  {
   "cell_type": "markdown",
   "id": "a5ce02c2",
   "metadata": {},
   "source": [
    "### Slicing list"
   ]
  },
  {
   "cell_type": "code",
   "execution_count": null,
   "id": "3765a9bf",
   "metadata": {},
   "outputs": [],
   "source": [
    "print(colors[1:])\n",
    "\n",
    "#reversing a list\n",
    "print(colors[::1])"
   ]
  },
  {
   "cell_type": "markdown",
   "id": "996f734d",
   "metadata": {},
   "source": [
    "### Modifying List"
   ]
  },
  {
   "cell_type": "code",
   "execution_count": null,
   "id": "077a5951",
   "metadata": {},
   "outputs": [],
   "source": [
    "\"\"\"\n",
    "1. Updating elements\n",
    "\"\"\"\n",
    "\n",
    "colors[1] = 'pink'\n",
    "print(colors)\n",
    "\n",
    "\n",
    "\"\"\"\n",
    "2. Adding elements\n",
    "\"\"\"\n",
    "# append(element): It adds an element at end of list\n",
    "colors.append(\"Yellow\")\n",
    "print(colors)\n",
    "\n",
    "# insert(index, element)\n",
    "colors. insert(3, \"black\")\n",
    "print(colors)\n",
    "\n",
    "# extend(sequence): insert a sequence of object at end of a list\n",
    "colors.extend(['brown', 'white', 'violet'])\n",
    "print(colors)\n",
    "\n",
    "\"\"\"\n",
    "3. Removing element\n",
    "\"\"\"\n",
    "# remove(element)\n",
    "colors.remove(\"pink\")\n",
    "print(colors)\n",
    "\n",
    "# pop(index): removes a element. if no index is provided then default to index = -1\n",
    "colors.pop(3)\n",
    "print(colors)\n",
    "\n",
    "colors.pop()\n",
    "print(colors)\n",
    "\n",
    "# del \n",
    "del colors[2]\n",
    "print(colors)\n",
    "\n",
    "del colors\n",
    "#completely remove the sequence.\n",
    "\n",
    "\n",
    "# clear(): It removes all elements in sequence.\n",
    "colors = ['red', 'green', 'blue']\n",
    "colors.clear()\n",
    "print(colors)"
   ]
  },
  {
   "cell_type": "markdown",
   "id": "aa0e505b",
   "metadata": {},
   "source": [
    "### List Operators"
   ]
  },
  {
   "cell_type": "code",
   "execution_count": null,
   "id": "6f94bfaa",
   "metadata": {},
   "outputs": [],
   "source": [
    "\"\"\"\n",
    "1. Concatenation(+)\n",
    "\"\"\"\n",
    "list1 = [1, 2, 3, 4]\n",
    "list2 = [8, 9, 1, 0]\n",
    "print(list1 + list2)\n",
    "\n",
    "\n",
    "\"\"\"\n",
    "2. Repetitive(*)\n",
    "\"\"\"\n",
    "list1 = ['hi', 2]\n",
    "print(list1 * 2)\n",
    "\n",
    "\"\"\"\n",
    "3. Membership Operator\n",
    "\"\"\"\n",
    "print(4 in list1)\n",
    "print(4 not in list2)\n",
    "print(11 in list1)"
   ]
  },
  {
   "cell_type": "markdown",
   "id": "a0fbe951",
   "metadata": {},
   "source": [
    "### Sorting a list"
   ]
  },
  {
   "cell_type": "code",
   "execution_count": null,
   "id": "2f22ed04",
   "metadata": {},
   "outputs": [],
   "source": [
    "list = ['d', 'e', 'a', 'c', 'z', 'y']\n",
    "\n",
    "# Ascending Order\n",
    "list.sort()\n",
    "print(list)\n",
    "\n",
    "# Descending Order\n",
    "list.sort(reverse=True)\n",
    "print(list)"
   ]
  },
  {
   "cell_type": "markdown",
   "id": "d4156614",
   "metadata": {},
   "source": [
    "### 2d List"
   ]
  },
  {
   "cell_type": "code",
   "execution_count": null,
   "id": "31fabfc9",
   "metadata": {},
   "outputs": [],
   "source": [
    "list = ['d', 'e', 'a', [1, 2, 3], 'z']\n",
    "\n",
    "\n",
    "print(list[2])\n",
    "print(list[3])\n",
    "print(list[3][0])\n",
    "print(list[3][2])\n",
    "\n",
    "\n",
    "anlist = ['d', 'e', 'a', [1, ['a', 'b'], 3], 'z']\n",
    "print(anlist[3][1][0])"
   ]
  },
  {
   "cell_type": "markdown",
   "id": "e4156a80",
   "metadata": {},
   "source": [
    "## Tuple\n",
    "`<var> = (ele1, ele2, ele3.........)`\n",
    "\n",
    "\n",
    "<br><br>\n",
    "### Assessing tuple element"
   ]
  },
  {
   "cell_type": "code",
   "execution_count": null,
   "id": "5161de45",
   "metadata": {},
   "outputs": [],
   "source": [
    "tupl = (1, 2, 3, 'a', 'b', 'c')\n",
    "\n",
    "print(tupl[3])\n",
    "print(tupl[2:5])\n",
    "print(tupl[4:])"
   ]
  },
  {
   "cell_type": "markdown",
   "id": "e8cce870",
   "metadata": {},
   "source": [
    "### Mutability"
   ]
  },
  {
   "cell_type": "code",
   "execution_count": null,
   "id": "f99ab9c6",
   "metadata": {},
   "outputs": [],
   "source": [
    "t = ('a', 'b', 'c', [22, 10, 16], 'd')\n",
    "\n",
    "t[3][0] = 20\n",
    "\n",
    "print(t)"
   ]
  },
  {
   "cell_type": "markdown",
   "id": "cf794867",
   "metadata": {},
   "source": [
    "### Tuple Operation"
   ]
  },
  {
   "cell_type": "code",
   "execution_count": null,
   "id": "e262db8e",
   "metadata": {},
   "outputs": [],
   "source": [
    "\"\"\"\n",
    "1. Concatenation(+)\n",
    "\"\"\"\n",
    "list1 = (1, 2, 3, 4)\n",
    "list2 = (8, 9, 1, 0)\n",
    "print(list1 + list2)\n",
    "\n",
    "\n",
    "\"\"\"\n",
    "2. Repetitive(*)\n",
    "\"\"\"\n",
    "list1 = ('hi', 2)\n",
    "print(list1 * 2)\n",
    "\n",
    "\"\"\"\n",
    "3. Membership Operator\n",
    "\"\"\"\n",
    "print(4 in list1)\n",
    "print(4 not in list2)\n",
    "print(11 in list1)"
   ]
  },
  {
   "cell_type": "markdown",
   "id": "31dcdb72",
   "metadata": {},
   "source": [
    "### Tuple Conversion\n"
   ]
  },
  {
   "cell_type": "code",
   "execution_count": null,
   "id": "12edc934",
   "metadata": {},
   "outputs": [],
   "source": [
    "# string to tuple\n",
    "print(tuple('hello'))\n",
    "\n",
    "# list to tuple\n",
    "print(tuple([1, 2, 3]))\n",
    "\n",
    "# dict to tuple\n",
    "print(tuple({2: 1, 4: 8}))"
   ]
  },
  {
   "cell_type": "markdown",
   "id": "36575f81",
   "metadata": {},
   "source": [
    "### Tuple packing and unpacking"
   ]
  },
  {
   "cell_type": "code",
   "execution_count": null,
   "id": "0ebeb695",
   "metadata": {},
   "outputs": [],
   "source": [
    "\"\"\"\n",
    "packing\n",
    "\"\"\"\n",
    "stud = (\"Kaustuhb\", \"AI\", \"Vidisha\")\n",
    "\n",
    "\n",
    "\"\"\"\n",
    "unpacking\n",
    "\"\"\"\n",
    "name, branch, city = stud\n",
    "print(name)\n",
    "print(branch)\n",
    "print(city)\n",
    "\n"
   ]
  },
  {
   "cell_type": "markdown",
   "id": "4eacc14f",
   "metadata": {},
   "source": [
    "### Tuple Functions"
   ]
  },
  {
   "cell_type": "code",
   "execution_count": null,
   "id": "213b42f2",
   "metadata": {},
   "outputs": [],
   "source": [
    "# count(element): used to count no. of occurrence of a value\n",
    "t = ('a', 'b', 'c', 'a', 'z', 'a', 'd')\n",
    "print(t.count('a'))\n",
    "print(t.count('b'))\n",
    "\n",
    "\n",
    "# index(element): find index of first occurrence of a value\n",
    "print(t.index('a'))\n",
    "print(t.index('z'))"
   ]
  },
  {
   "cell_type": "markdown",
   "id": "4977a182",
   "metadata": {},
   "source": [
    "## Dictionary\n",
    "Syntax: `<var> = {key1: value1, key2: value2, key3: value3, .......}`\n",
    "\n",
    "### Creating a dictionary and Adding / Updating items"
   ]
  },
  {
   "cell_type": "code",
   "execution_count": null,
   "id": "948feeb8",
   "metadata": {},
   "outputs": [],
   "source": [
    "d = dict()\n",
    "print(d)\n",
    "\n",
    "d = dict(((1,8),(2,3)))\n",
    "print(d)\n",
    "\n",
    "d = {\"name\": \"Koustubh\", \"class\": \"AI\", \"year\": 2021}\n",
    "print(d)\n",
    "\n",
    "d['branch'] = 'AI'\n",
    "print(d)\n",
    "\n",
    "d['branch'] = 'IT'\n",
    "print(d)\n",
    "\n"
   ]
  },
  {
   "cell_type": "markdown",
   "id": "6e0a4b06",
   "metadata": {},
   "source": [
    "### Assessing dictionary item"
   ]
  },
  {
   "cell_type": "code",
   "execution_count": null,
   "id": "c920ddca",
   "metadata": {},
   "outputs": [],
   "source": [
    "print(d['branch'])\n",
    "print(d['year'])"
   ]
  },
  {
   "cell_type": "markdown",
   "id": "14d38056",
   "metadata": {},
   "source": [
    "### Function of Dictionary"
   ]
  },
  {
   "cell_type": "code",
   "execution_count": null,
   "id": "dac450bc",
   "metadata": {},
   "outputs": [],
   "source": [
    "# keys(): It return an object of keys\n",
    "print(d.keys())\n",
    "\n",
    "# values(): It return an object of values\n",
    "print(d.values())\n",
    "\n",
    "# items(): It return an object of key:value tuple\n",
    "print(d.items())"
   ]
  },
  {
   "cell_type": "markdown",
   "id": "5070862b",
   "metadata": {},
   "source": [
    "### Removing element from dictionary"
   ]
  },
  {
   "cell_type": "code",
   "execution_count": null,
   "id": "8b2c7093",
   "metadata": {},
   "outputs": [],
   "source": [
    "# pop(): remove the item with specific key name, returns values\n",
    "d.pop(\"year\")   \n",
    "print(d)\n",
    "\n",
    "# popitem(): remove last item, return items\n",
    "d.popitem()\n",
    "print(d)\n",
    "\n",
    "# del: removes the object from memory with specified key name\n",
    "del d['name']\n",
    "print(d)\n",
    "\n",
    "# clear: remove all the items\n",
    "d.clear()\n",
    "print(d)"
   ]
  }
 ],
 "metadata": {
  "kernelspec": {
   "display_name": "Python 3",
   "language": "python",
   "name": "python3"
  },
  "language_info": {
   "codemirror_mode": {
    "name": "ipython",
    "version": 3
   },
   "file_extension": ".py",
   "mimetype": "text/x-python",
   "name": "python",
   "nbconvert_exporter": "python",
   "pygments_lexer": "ipython3",
   "version": "3.13.1"
  }
 },
 "nbformat": 4,
 "nbformat_minor": 5
}
